{
 "cells": [
  {
   "cell_type": "markdown",
   "metadata": {},
   "source": [
    "# Project: Investigate Economic and Social Datasets from Gapminder\n",
    "\n",
    "## Table of Contents\n",
    "<ul>\n",
    "<li><a href=\"#intro\">Introduction</a></li>\n",
    "<li><a href=\"#wrangling\">Data Wrangling</a></li>\n",
    "<li><a href=\"#eda\">Exploratory Data Analysis</a></li>\n",
    "<li><a href=\"#conclusions\">Conclusions</a></li>\n",
    "</ul>"
   ]
  },
  {
   "cell_type": "markdown",
   "metadata": {},
   "source": [
    "<a id='intro'></a>\n",
    "## Introduction\n",
    "\n",
    "In this project, the datasets from [Gapminder World Data](https://www.gapminder.org/data/) is used to analyze the enconomy, health, society and population related situations. In this project, the economic data includes the *GDP growth rate per capita, inflation rate, weekly working hours, people's mean years in school, total health spending, suicide per 100000 people, human development index (HDI), labor force aged 25-54 and sex ratio.* \n",
    "All the datasets are downloaded from the website as CSV format.\n",
    "The Pandas, Numpy are used to process the data and matplotlib is used to visulize the results."
   ]
  },
  {
   "cell_type": "markdown",
   "metadata": {},
   "source": [
    "Relationships behind the datasets are tried to dig out. They includes:  \n",
    "1. The relationship between working hours and human development index (HDI)  \n",
    "2. The relationship between health expenditure and human development index (HDI)  \n",
    "3. The relationship between suicide and other indicators in datasets  \n",
    "4. The relationship between HDI and GDP growth rate  \n",
    "5. The trends of weekly working hours in selected areas (EU, US, South Korea and Japan)  \n",
    "6. Which countries have increased HDI but less countribution from the young and middle-aged (aged 25-54)?"
   ]
  },
  {
   "cell_type": "markdown",
   "metadata": {},
   "source": [
    "<a id='wrangling'></a>\n",
    "## Data Wrangling\n",
    "\n",
    "### General Properties"
   ]
  },
  {
   "cell_type": "code",
   "execution_count": 1,
   "metadata": {},
   "outputs": [],
   "source": [
    "import pandas as pd\n",
    "import numpy as np\n",
    "from functools import reduce\n",
    "import matplotlib.pyplot as plt\n",
    "import seaborn as sns\n",
    "% matplotlib inline"
   ]
  },
  {
   "cell_type": "code",
   "execution_count": 2,
   "metadata": {
    "scrolled": true
   },
   "outputs": [],
   "source": [
    "# 1961-2016\n",
    "# inflatin data\n",
    "df_inflation = pd.read_csv('../datasets/inflation_annual_percent.csv')\n",
    "\n",
    "# 1980-2007\n",
    "# weekly working hours\n",
    "df_work_hour = pd.read_csv('../datasets/working_hours_per_week.csv')\n",
    "\n",
    "# 1800-2013\n",
    "# GDP growth per capita\n",
    "df_gdp_growth_pc = pd.read_csv('../datasets/gdppercapita_growth_percent_per_year.csv')\n",
    "\n",
    "# 1970-2009\n",
    "# mean years in school for male\n",
    "df_mean_yr_scl_m = pd.read_csv('../datasets/mean_years_in_school_men_25_years_and_older.csv')\n",
    "\n",
    "# 1970-2009\n",
    "# mean years in school for female\n",
    "df_mean_yr_scl_f = pd.read_csv('../datasets/mean_years_in_school_women_25_years_and_older.csv')\n",
    "\n",
    "# 1995-2010\n",
    "# total health spending per person (international dollar)\n",
    "df_tt_h_spd_pp = pd.read_csv('../datasets/total_health_spending_per_person_international_dollar.csv')\n",
    "\n",
    "# 1950-2005\n",
    "# suicide number of people per 100k people\n",
    "df_suid_p100k = pd.read_csv('../datasets/suicide_per_100000_people.csv')\n",
    "\n",
    "# 1990-2015\n",
    "# human development index\n",
    "df_hdi = pd.read_csv('../datasets/hdi_human_development_index.csv')\n",
    "\n",
    "# 1980-2007\n",
    "# labour force participation rate percent (age:25-54)\n",
    "df_lbr_frc_25_54 = pd.read_csv('../datasets/aged_25_54_labour_force_participation_rate_percent.csv')\n",
    "\n",
    "# 1950-2100\n",
    "# sex ration data (male divide female, per 100)\n",
    "df_sex_ratio = pd.read_csv('../datasets/sex_ratio_all_age_groups.csv')"
   ]
  },
  {
   "cell_type": "markdown",
   "metadata": {},
   "source": [
    "\n",
    "### Data Cleaning (Replace this with more specific notes!)"
   ]
  },
  {
   "cell_type": "markdown",
   "metadata": {},
   "source": [
    "All datasets have the same structure:\n",
    "\n",
    "|geo  | year1  | year2  | year3  | ...  | year n\n",
    "| ----| -----  | -----  | -----  | ---- | -----  \n",
    "|Country| value| value  | value  | ...  | value\n",
    "\n",
    "There are serveral problems in these datasets after checking:\n",
    "- The period of data are different with each other.\n",
    "- The \"mean years in shool\" data is seperated as male and female. It needs to be merged together and get average value of \"mean years\".\n",
    "- The dataset of sex ratio seems based on the 5-year cencus data. So there are empty data between the recorded years. For empty data between the cencus year, can fill the data with arithmetic sequence by assuming they have the same yearly imcresement among 5-year period. For example, the data of 2001 can be calculated by Delta(2005-2000)/5x1+R(2000), the 2002 data can be calculated by Delta(2005-2000)/5x2+R(2000). And the ratio is calculated by male divided by female per 100.\n",
    "- The data structure of above is a 2D matrix like (country, year1, year2,...). For better understand the relations of these indicators, need to convert the data structure to (country, year, indicator1, indicator2,...).\n",
    "- In order to make comparations among counties, need to join the data on the country name (column:geo).\n",
    "- Countries are not same in each dataset, and same countries in these dataset must be extracted and to be used."
   ]
  },
  {
   "cell_type": "markdown",
   "metadata": {},
   "source": [
    "First, create each dataframe with the chosen period. The operaions and dataframes are:  \n",
    "\n",
    "| DataFrames           | Operations |\n",
    "| ------------------   |----------  |\n",
    "|df_inflation_95_05    |select columns, remove empty and duplicated data|\n",
    "|df_work_hour_95_05    |select columns, remove empty and duplicated data|\n",
    "|df_gdp_gr_pc_95_05    |select columns, remove empty and duplicated data|\n",
    "|df_mean_yr_scl_m_95_05|select columns, remove empty and duplicated data, merge with df_mean_yr_scl_f_95_05|\n",
    "|df_mean_yr_scl_f_95_05|select columns, remove empty and duplicated data, merge with df_mean_yr_scl_m_95_05|\n",
    "|df_tt_spend_pp_95_05  |select columns, remove empty and duplicated data|\n",
    "|df_suid_p100k_95_05   |select columns, remove empty and duplicated data|\n",
    "|df_hid_95_05          |select columns, remove empty and duplicated data|\n",
    "|df_lbr_frc_95_05      |select columns, remove empty and duplicated data|\n",
    "|df_sex_ratio_95_05    |select columns, remove duplicated data, fill in empty with arithmetic sequence|\n"
   ]
  },
  {
   "cell_type": "markdown",
   "metadata": {},
   "source": [
    "#### 1. Extract data to align with the same period (1995-2005)"
   ]
  },
  {
   "cell_type": "code",
   "execution_count": 3,
   "metadata": {},
   "outputs": [],
   "source": [
    "# define the columns that need to be extract from each dataset\n",
    "columns = ['geo','1995','1996','1997','1998','1999','2000','2001','2002','2003','2004','2005']"
   ]
  },
  {
   "cell_type": "code",
   "execution_count": 4,
   "metadata": {},
   "outputs": [
    {
     "data": {
      "text/html": [
       "<div>\n",
       "<style scoped>\n",
       "    .dataframe tbody tr th:only-of-type {\n",
       "        vertical-align: middle;\n",
       "    }\n",
       "\n",
       "    .dataframe tbody tr th {\n",
       "        vertical-align: top;\n",
       "    }\n",
       "\n",
       "    .dataframe thead th {\n",
       "        text-align: right;\n",
       "    }\n",
       "</style>\n",
       "<table border=\"1\" class=\"dataframe\">\n",
       "  <thead>\n",
       "    <tr style=\"text-align: right;\">\n",
       "      <th></th>\n",
       "      <th>geo</th>\n",
       "      <th>inf_1995</th>\n",
       "      <th>inf_1996</th>\n",
       "      <th>inf_1997</th>\n",
       "      <th>inf_1998</th>\n",
       "      <th>inf_1999</th>\n",
       "      <th>inf_2000</th>\n",
       "      <th>inf_2001</th>\n",
       "      <th>inf_2002</th>\n",
       "      <th>inf_2003</th>\n",
       "      <th>inf_2004</th>\n",
       "      <th>inf_2005</th>\n",
       "    </tr>\n",
       "  </thead>\n",
       "  <tbody>\n",
       "    <tr>\n",
       "      <th>1</th>\n",
       "      <td>Albania</td>\n",
       "      <td>5.57</td>\n",
       "      <td>41.300</td>\n",
       "      <td>12.10</td>\n",
       "      <td>8.43</td>\n",
       "      <td>1.53</td>\n",
       "      <td>3.98</td>\n",
       "      <td>3.330</td>\n",
       "      <td>2.410</td>\n",
       "      <td>5.380</td>\n",
       "      <td>2.36</td>\n",
       "      <td>2.62</td>\n",
       "    </tr>\n",
       "    <tr>\n",
       "      <th>2</th>\n",
       "      <td>Algeria</td>\n",
       "      <td>28.60</td>\n",
       "      <td>24.000</td>\n",
       "      <td>7.00</td>\n",
       "      <td>-3.13</td>\n",
       "      <td>10.90</td>\n",
       "      <td>22.70</td>\n",
       "      <td>-0.482</td>\n",
       "      <td>1.310</td>\n",
       "      <td>8.330</td>\n",
       "      <td>12.20</td>\n",
       "      <td>16.10</td>\n",
       "    </tr>\n",
       "    <tr>\n",
       "      <th>3</th>\n",
       "      <td>Andorra</td>\n",
       "      <td>4.93</td>\n",
       "      <td>0.797</td>\n",
       "      <td>2.23</td>\n",
       "      <td>1.50</td>\n",
       "      <td>2.73</td>\n",
       "      <td>29.20</td>\n",
       "      <td>2.770</td>\n",
       "      <td>3.400</td>\n",
       "      <td>2.880</td>\n",
       "      <td>3.35</td>\n",
       "      <td>3.10</td>\n",
       "    </tr>\n",
       "    <tr>\n",
       "      <th>4</th>\n",
       "      <td>Angola</td>\n",
       "      <td>1900.00</td>\n",
       "      <td>5400.000</td>\n",
       "      <td>94.30</td>\n",
       "      <td>35.30</td>\n",
       "      <td>557.00</td>\n",
       "      <td>418.00</td>\n",
       "      <td>106.000</td>\n",
       "      <td>197.000</td>\n",
       "      <td>84.900</td>\n",
       "      <td>39.80</td>\n",
       "      <td>26.80</td>\n",
       "    </tr>\n",
       "    <tr>\n",
       "      <th>5</th>\n",
       "      <td>Antigua and Barbuda</td>\n",
       "      <td>2.40</td>\n",
       "      <td>2.980</td>\n",
       "      <td>1.83</td>\n",
       "      <td>2.11</td>\n",
       "      <td>1.50</td>\n",
       "      <td>1.55</td>\n",
       "      <td>1.480</td>\n",
       "      <td>0.702</td>\n",
       "      <td>-0.963</td>\n",
       "      <td>1.64</td>\n",
       "      <td>4.46</td>\n",
       "    </tr>\n",
       "  </tbody>\n",
       "</table>\n",
       "</div>"
      ],
      "text/plain": [
       "                   geo  inf_1995  inf_1996  inf_1997  inf_1998  inf_1999  \\\n",
       "1              Albania      5.57    41.300     12.10      8.43      1.53   \n",
       "2              Algeria     28.60    24.000      7.00     -3.13     10.90   \n",
       "3              Andorra      4.93     0.797      2.23      1.50      2.73   \n",
       "4               Angola   1900.00  5400.000     94.30     35.30    557.00   \n",
       "5  Antigua and Barbuda      2.40     2.980      1.83      2.11      1.50   \n",
       "\n",
       "   inf_2000  inf_2001  inf_2002  inf_2003  inf_2004  inf_2005  \n",
       "1      3.98     3.330     2.410     5.380      2.36      2.62  \n",
       "2     22.70    -0.482     1.310     8.330     12.20     16.10  \n",
       "3     29.20     2.770     3.400     2.880      3.35      3.10  \n",
       "4    418.00   106.000   197.000    84.900     39.80     26.80  \n",
       "5      1.55     1.480     0.702    -0.963      1.64      4.46  "
      ]
     },
     "execution_count": 4,
     "metadata": {},
     "output_type": "execute_result"
    }
   ],
   "source": [
    "# create dataframe for inflation \n",
    "df_inflation_95_05=df_inflation[columns].copy()\n",
    "# rename the columns by adding prefix 'inf_'\n",
    "df_inflation_95_05.rename(lambda c:'inf_'+c if c!='geo' else c,axis='columns', inplace=True)\n",
    "# Remove empty and duplicated data\n",
    "df_inflation_95_05.dropna(inplace=True)\n",
    "df_inflation_95_05.drop_duplicates(inplace=True)\n",
    "df_inflation_95_05.head()"
   ]
  },
  {
   "cell_type": "code",
   "execution_count": 5,
   "metadata": {},
   "outputs": [
    {
     "data": {
      "text/html": [
       "<div>\n",
       "<style scoped>\n",
       "    .dataframe tbody tr th:only-of-type {\n",
       "        vertical-align: middle;\n",
       "    }\n",
       "\n",
       "    .dataframe tbody tr th {\n",
       "        vertical-align: top;\n",
       "    }\n",
       "\n",
       "    .dataframe thead th {\n",
       "        text-align: right;\n",
       "    }\n",
       "</style>\n",
       "<table border=\"1\" class=\"dataframe\">\n",
       "  <thead>\n",
       "    <tr style=\"text-align: right;\">\n",
       "      <th></th>\n",
       "      <th>geo</th>\n",
       "      <th>wh_1995</th>\n",
       "      <th>wh_1996</th>\n",
       "      <th>wh_1997</th>\n",
       "      <th>wh_1998</th>\n",
       "      <th>wh_1999</th>\n",
       "      <th>wh_2000</th>\n",
       "      <th>wh_2001</th>\n",
       "      <th>wh_2002</th>\n",
       "      <th>wh_2003</th>\n",
       "      <th>wh_2004</th>\n",
       "      <th>wh_2005</th>\n",
       "    </tr>\n",
       "  </thead>\n",
       "  <tbody>\n",
       "    <tr>\n",
       "      <th>1</th>\n",
       "      <td>Australia</td>\n",
       "      <td>34.7</td>\n",
       "      <td>34.6</td>\n",
       "      <td>34.5</td>\n",
       "      <td>34.4</td>\n",
       "      <td>34.4</td>\n",
       "      <td>34.3</td>\n",
       "      <td>33.7</td>\n",
       "      <td>33.5</td>\n",
       "      <td>33.4</td>\n",
       "      <td>33.6</td>\n",
       "      <td>33.3</td>\n",
       "    </tr>\n",
       "    <tr>\n",
       "      <th>2</th>\n",
       "      <td>Austria</td>\n",
       "      <td>31.7</td>\n",
       "      <td>32.0</td>\n",
       "      <td>32.1</td>\n",
       "      <td>32.0</td>\n",
       "      <td>31.5</td>\n",
       "      <td>31.4</td>\n",
       "      <td>31.4</td>\n",
       "      <td>31.4</td>\n",
       "      <td>31.6</td>\n",
       "      <td>31.7</td>\n",
       "      <td>31.8</td>\n",
       "    </tr>\n",
       "    <tr>\n",
       "      <th>4</th>\n",
       "      <td>Belgium</td>\n",
       "      <td>32.2</td>\n",
       "      <td>31.6</td>\n",
       "      <td>31.9</td>\n",
       "      <td>32.1</td>\n",
       "      <td>30.4</td>\n",
       "      <td>29.9</td>\n",
       "      <td>30.3</td>\n",
       "      <td>30.4</td>\n",
       "      <td>30.3</td>\n",
       "      <td>29.8</td>\n",
       "      <td>30.1</td>\n",
       "    </tr>\n",
       "    <tr>\n",
       "      <th>6</th>\n",
       "      <td>Canada</td>\n",
       "      <td>33.9</td>\n",
       "      <td>34.1</td>\n",
       "      <td>34.0</td>\n",
       "      <td>34.0</td>\n",
       "      <td>34.0</td>\n",
       "      <td>34.0</td>\n",
       "      <td>33.9</td>\n",
       "      <td>33.5</td>\n",
       "      <td>33.4</td>\n",
       "      <td>33.7</td>\n",
       "      <td>33.4</td>\n",
       "    </tr>\n",
       "    <tr>\n",
       "      <th>10</th>\n",
       "      <td>Czech Republic</td>\n",
       "      <td>39.7</td>\n",
       "      <td>39.7</td>\n",
       "      <td>39.8</td>\n",
       "      <td>39.9</td>\n",
       "      <td>40.1</td>\n",
       "      <td>40.2</td>\n",
       "      <td>38.5</td>\n",
       "      <td>38.1</td>\n",
       "      <td>37.9</td>\n",
       "      <td>38.2</td>\n",
       "      <td>38.5</td>\n",
       "    </tr>\n",
       "  </tbody>\n",
       "</table>\n",
       "</div>"
      ],
      "text/plain": [
       "               geo  wh_1995  wh_1996  wh_1997  wh_1998  wh_1999  wh_2000  \\\n",
       "1        Australia     34.7     34.6     34.5     34.4     34.4     34.3   \n",
       "2          Austria     31.7     32.0     32.1     32.0     31.5     31.4   \n",
       "4          Belgium     32.2     31.6     31.9     32.1     30.4     29.9   \n",
       "6           Canada     33.9     34.1     34.0     34.0     34.0     34.0   \n",
       "10  Czech Republic     39.7     39.7     39.8     39.9     40.1     40.2   \n",
       "\n",
       "    wh_2001  wh_2002  wh_2003  wh_2004  wh_2005  \n",
       "1      33.7     33.5     33.4     33.6     33.3  \n",
       "2      31.4     31.4     31.6     31.7     31.8  \n",
       "4      30.3     30.4     30.3     29.8     30.1  \n",
       "6      33.9     33.5     33.4     33.7     33.4  \n",
       "10     38.5     38.1     37.9     38.2     38.5  "
      ]
     },
     "execution_count": 5,
     "metadata": {},
     "output_type": "execute_result"
    }
   ],
   "source": [
    "# create dataframe for working hour\n",
    "df_work_hour_95_05=df_work_hour[columns].copy()\n",
    "# rename the columns by adding prefix 'wh_'\n",
    "df_work_hour_95_05.rename(lambda c:'wh_'+c if c!='geo' else c,axis='columns', inplace=True)\n",
    "# Remove empty and duplicated data\n",
    "df_work_hour_95_05.dropna(inplace=True)\n",
    "df_work_hour_95_05.drop_duplicates(inplace=True)\n",
    "df_work_hour_95_05.head()"
   ]
  },
  {
   "cell_type": "code",
   "execution_count": 6,
   "metadata": {},
   "outputs": [
    {
     "data": {
      "text/html": [
       "<div>\n",
       "<style scoped>\n",
       "    .dataframe tbody tr th:only-of-type {\n",
       "        vertical-align: middle;\n",
       "    }\n",
       "\n",
       "    .dataframe tbody tr th {\n",
       "        vertical-align: top;\n",
       "    }\n",
       "\n",
       "    .dataframe thead th {\n",
       "        text-align: right;\n",
       "    }\n",
       "</style>\n",
       "<table border=\"1\" class=\"dataframe\">\n",
       "  <thead>\n",
       "    <tr style=\"text-align: right;\">\n",
       "      <th></th>\n",
       "      <th>geo</th>\n",
       "      <th>gdp_1995</th>\n",
       "      <th>gdp_1996</th>\n",
       "      <th>gdp_1997</th>\n",
       "      <th>gdp_1998</th>\n",
       "      <th>gdp_1999</th>\n",
       "      <th>gdp_2000</th>\n",
       "      <th>gdp_2001</th>\n",
       "      <th>gdp_2002</th>\n",
       "      <th>gdp_2003</th>\n",
       "      <th>gdp_2004</th>\n",
       "      <th>gdp_2005</th>\n",
       "    </tr>\n",
       "  </thead>\n",
       "  <tbody>\n",
       "    <tr>\n",
       "      <th>1</th>\n",
       "      <td>Albania</td>\n",
       "      <td>14.00</td>\n",
       "      <td>9.78</td>\n",
       "      <td>-10.300</td>\n",
       "      <td>9.70</td>\n",
       "      <td>14.200</td>\n",
       "      <td>7.3500</td>\n",
       "      <td>8.960</td>\n",
       "      <td>4.540</td>\n",
       "      <td>6.17</td>\n",
       "      <td>6.15</td>\n",
       "      <td>6.26</td>\n",
       "    </tr>\n",
       "    <tr>\n",
       "      <th>2</th>\n",
       "      <td>Algeria</td>\n",
       "      <td>1.85</td>\n",
       "      <td>2.31</td>\n",
       "      <td>-0.508</td>\n",
       "      <td>3.54</td>\n",
       "      <td>1.760</td>\n",
       "      <td>2.4300</td>\n",
       "      <td>1.680</td>\n",
       "      <td>4.280</td>\n",
       "      <td>5.85</td>\n",
       "      <td>2.94</td>\n",
       "      <td>4.45</td>\n",
       "    </tr>\n",
       "    <tr>\n",
       "      <th>3</th>\n",
       "      <td>Andorra</td>\n",
       "      <td>0.87</td>\n",
       "      <td>3.82</td>\n",
       "      <td>9.120</td>\n",
       "      <td>3.49</td>\n",
       "      <td>3.730</td>\n",
       "      <td>1.9100</td>\n",
       "      <td>1.520</td>\n",
       "      <td>2.350</td>\n",
       "      <td>7.37</td>\n",
       "      <td>3.32</td>\n",
       "      <td>3.83</td>\n",
       "    </tr>\n",
       "    <tr>\n",
       "      <th>4</th>\n",
       "      <td>Angola</td>\n",
       "      <td>7.09</td>\n",
       "      <td>8.07</td>\n",
       "      <td>4.990</td>\n",
       "      <td>3.94</td>\n",
       "      <td>0.356</td>\n",
       "      <td>-0.0653</td>\n",
       "      <td>0.893</td>\n",
       "      <td>-10.100</td>\n",
       "      <td>1.60</td>\n",
       "      <td>6.99</td>\n",
       "      <td>14.10</td>\n",
       "    </tr>\n",
       "    <tr>\n",
       "      <th>5</th>\n",
       "      <td>Antigua and Barbuda</td>\n",
       "      <td>-6.83</td>\n",
       "      <td>3.77</td>\n",
       "      <td>2.610</td>\n",
       "      <td>1.96</td>\n",
       "      <td>1.200</td>\n",
       "      <td>4.4500</td>\n",
       "      <td>-6.600</td>\n",
       "      <td>-0.392</td>\n",
       "      <td>4.81</td>\n",
       "      <td>4.58</td>\n",
       "      <td>5.22</td>\n",
       "    </tr>\n",
       "  </tbody>\n",
       "</table>\n",
       "</div>"
      ],
      "text/plain": [
       "                   geo  gdp_1995  gdp_1996  gdp_1997  gdp_1998  gdp_1999  \\\n",
       "1              Albania     14.00      9.78   -10.300      9.70    14.200   \n",
       "2              Algeria      1.85      2.31    -0.508      3.54     1.760   \n",
       "3              Andorra      0.87      3.82     9.120      3.49     3.730   \n",
       "4               Angola      7.09      8.07     4.990      3.94     0.356   \n",
       "5  Antigua and Barbuda     -6.83      3.77     2.610      1.96     1.200   \n",
       "\n",
       "   gdp_2000  gdp_2001  gdp_2002  gdp_2003  gdp_2004  gdp_2005  \n",
       "1    7.3500     8.960     4.540      6.17      6.15      6.26  \n",
       "2    2.4300     1.680     4.280      5.85      2.94      4.45  \n",
       "3    1.9100     1.520     2.350      7.37      3.32      3.83  \n",
       "4   -0.0653     0.893   -10.100      1.60      6.99     14.10  \n",
       "5    4.4500    -6.600    -0.392      4.81      4.58      5.22  "
      ]
     },
     "execution_count": 6,
     "metadata": {},
     "output_type": "execute_result"
    }
   ],
   "source": [
    "# create dataframe for gdp growth\n",
    "df_gdp_gr_pc_95_05=df_gdp_growth_pc[columns].copy()\n",
    "# rename the columns by adding prefix 'gdp_'\n",
    "df_gdp_gr_pc_95_05.rename(lambda c:'gdp_'+c if c!='geo' else c, axis='columns', inplace=True)\n",
    "# Remove empty and duplicated data\n",
    "df_gdp_gr_pc_95_05.dropna(inplace=True)\n",
    "df_gdp_gr_pc_95_05.drop_duplicates(inplace=True)\n",
    "df_gdp_gr_pc_95_05.head()"
   ]
  },
  {
   "cell_type": "code",
   "execution_count": 7,
   "metadata": {},
   "outputs": [
    {
     "data": {
      "text/html": [
       "<div>\n",
       "<style scoped>\n",
       "    .dataframe tbody tr th:only-of-type {\n",
       "        vertical-align: middle;\n",
       "    }\n",
       "\n",
       "    .dataframe tbody tr th {\n",
       "        vertical-align: top;\n",
       "    }\n",
       "\n",
       "    .dataframe thead th {\n",
       "        text-align: right;\n",
       "    }\n",
       "</style>\n",
       "<table border=\"1\" class=\"dataframe\">\n",
       "  <thead>\n",
       "    <tr style=\"text-align: right;\">\n",
       "      <th></th>\n",
       "      <th>geo</th>\n",
       "      <th>yr_scl_1995</th>\n",
       "      <th>yr_scl_1996</th>\n",
       "      <th>yr_scl_1997</th>\n",
       "      <th>yr_scl_1998</th>\n",
       "      <th>yr_scl_1999</th>\n",
       "      <th>yr_scl_2000</th>\n",
       "      <th>yr_scl_2001</th>\n",
       "      <th>yr_scl_2002</th>\n",
       "      <th>yr_scl_2003</th>\n",
       "      <th>yr_scl_2004</th>\n",
       "      <th>yr_scl_2005</th>\n",
       "    </tr>\n",
       "  </thead>\n",
       "  <tbody>\n",
       "    <tr>\n",
       "      <th>0</th>\n",
       "      <td>Afghanistan</td>\n",
       "      <td>1.00</td>\n",
       "      <td>1.05</td>\n",
       "      <td>1.05</td>\n",
       "      <td>1.10</td>\n",
       "      <td>1.10</td>\n",
       "      <td>1.15</td>\n",
       "      <td>1.20</td>\n",
       "      <td>1.25</td>\n",
       "      <td>1.30</td>\n",
       "      <td>1.30</td>\n",
       "      <td>1.35</td>\n",
       "    </tr>\n",
       "    <tr>\n",
       "      <th>1</th>\n",
       "      <td>Albania</td>\n",
       "      <td>7.80</td>\n",
       "      <td>8.00</td>\n",
       "      <td>8.10</td>\n",
       "      <td>8.25</td>\n",
       "      <td>8.40</td>\n",
       "      <td>8.55</td>\n",
       "      <td>8.70</td>\n",
       "      <td>8.85</td>\n",
       "      <td>9.00</td>\n",
       "      <td>9.10</td>\n",
       "      <td>9.30</td>\n",
       "    </tr>\n",
       "    <tr>\n",
       "      <th>2</th>\n",
       "      <td>Algeria</td>\n",
       "      <td>2.75</td>\n",
       "      <td>2.85</td>\n",
       "      <td>2.95</td>\n",
       "      <td>3.10</td>\n",
       "      <td>3.20</td>\n",
       "      <td>3.35</td>\n",
       "      <td>3.45</td>\n",
       "      <td>3.55</td>\n",
       "      <td>3.70</td>\n",
       "      <td>3.80</td>\n",
       "      <td>3.95</td>\n",
       "    </tr>\n",
       "    <tr>\n",
       "      <th>3</th>\n",
       "      <td>Angola</td>\n",
       "      <td>2.50</td>\n",
       "      <td>2.60</td>\n",
       "      <td>2.70</td>\n",
       "      <td>2.80</td>\n",
       "      <td>2.85</td>\n",
       "      <td>2.95</td>\n",
       "      <td>3.05</td>\n",
       "      <td>3.20</td>\n",
       "      <td>3.30</td>\n",
       "      <td>3.40</td>\n",
       "      <td>3.50</td>\n",
       "    </tr>\n",
       "    <tr>\n",
       "      <th>4</th>\n",
       "      <td>Antigua and Barbuda</td>\n",
       "      <td>10.50</td>\n",
       "      <td>10.65</td>\n",
       "      <td>10.75</td>\n",
       "      <td>10.85</td>\n",
       "      <td>11.00</td>\n",
       "      <td>11.10</td>\n",
       "      <td>11.25</td>\n",
       "      <td>11.35</td>\n",
       "      <td>11.45</td>\n",
       "      <td>11.55</td>\n",
       "      <td>11.65</td>\n",
       "    </tr>\n",
       "  </tbody>\n",
       "</table>\n",
       "</div>"
      ],
      "text/plain": [
       "                   geo  yr_scl_1995  yr_scl_1996  yr_scl_1997  yr_scl_1998  \\\n",
       "0          Afghanistan         1.00         1.05         1.05         1.10   \n",
       "1              Albania         7.80         8.00         8.10         8.25   \n",
       "2              Algeria         2.75         2.85         2.95         3.10   \n",
       "3               Angola         2.50         2.60         2.70         2.80   \n",
       "4  Antigua and Barbuda        10.50        10.65        10.75        10.85   \n",
       "\n",
       "   yr_scl_1999  yr_scl_2000  yr_scl_2001  yr_scl_2002  yr_scl_2003  \\\n",
       "0         1.10         1.15         1.20         1.25         1.30   \n",
       "1         8.40         8.55         8.70         8.85         9.00   \n",
       "2         3.20         3.35         3.45         3.55         3.70   \n",
       "3         2.85         2.95         3.05         3.20         3.30   \n",
       "4        11.00        11.10        11.25        11.35        11.45   \n",
       "\n",
       "   yr_scl_2004  yr_scl_2005  \n",
       "0         1.30         1.35  \n",
       "1         9.10         9.30  \n",
       "2         3.80         3.95  \n",
       "3         3.40         3.50  \n",
       "4        11.55        11.65  "
      ]
     },
     "execution_count": 7,
     "metadata": {},
     "output_type": "execute_result"
    }
   ],
   "source": [
    "# create dataframe for mean year in school (male and female)\n",
    "df_mean_yr_scl_m_95_05=df_mean_yr_scl_m[columns].copy()\n",
    "df_mean_yr_scl_f_95_05=df_mean_yr_scl_f[columns].copy()\n",
    "\n",
    "# Remove empty and duplicated data\n",
    "df_mean_yr_scl_m_95_05.dropna(inplace=True)\n",
    "df_mean_yr_scl_f_95_05.drop_duplicates(inplace=True)\n",
    "\n",
    "# combine the male and female \"mean years in shool\" data by creating a new dataframe\n",
    "df_mean_yr_scl_95_05 = pd.concat([df_mean_yr_scl_m_95_05, df_mean_yr_scl_f_95_05], ignore_index=True).groupby('geo', as_index=False).mean()\n",
    "# rename columns by adding prefix 'yr_scl_'\n",
    "df_mean_yr_scl_95_05.rename(lambda c:'yr_scl_'+c if c!='geo' else c, axis='columns', inplace=True)\n",
    "df_mean_yr_scl_95_05.head()"
   ]
  },
  {
   "cell_type": "code",
   "execution_count": 8,
   "metadata": {},
   "outputs": [
    {
     "data": {
      "text/html": [
       "<div>\n",
       "<style scoped>\n",
       "    .dataframe tbody tr th:only-of-type {\n",
       "        vertical-align: middle;\n",
       "    }\n",
       "\n",
       "    .dataframe tbody tr th {\n",
       "        vertical-align: top;\n",
       "    }\n",
       "\n",
       "    .dataframe thead th {\n",
       "        text-align: right;\n",
       "    }\n",
       "</style>\n",
       "<table border=\"1\" class=\"dataframe\">\n",
       "  <thead>\n",
       "    <tr style=\"text-align: right;\">\n",
       "      <th></th>\n",
       "      <th>geo</th>\n",
       "      <th>h_spd_1995</th>\n",
       "      <th>h_spd_1996</th>\n",
       "      <th>h_spd_1997</th>\n",
       "      <th>h_spd_1998</th>\n",
       "      <th>h_spd_1999</th>\n",
       "      <th>h_spd_2000</th>\n",
       "      <th>h_spd_2001</th>\n",
       "      <th>h_spd_2002</th>\n",
       "      <th>h_spd_2003</th>\n",
       "      <th>h_spd_2004</th>\n",
       "      <th>h_spd_2005</th>\n",
       "    </tr>\n",
       "  </thead>\n",
       "  <tbody>\n",
       "    <tr>\n",
       "      <th>1</th>\n",
       "      <td>Albania</td>\n",
       "      <td>106.0</td>\n",
       "      <td>146.0</td>\n",
       "      <td>156.0</td>\n",
       "      <td>184.0</td>\n",
       "      <td>225.0</td>\n",
       "      <td>266.0</td>\n",
       "      <td>279.0</td>\n",
       "      <td>303.0</td>\n",
       "      <td>326.0</td>\n",
       "      <td>380.0</td>\n",
       "      <td>407.0</td>\n",
       "    </tr>\n",
       "    <tr>\n",
       "      <th>2</th>\n",
       "      <td>Algeria</td>\n",
       "      <td>192.0</td>\n",
       "      <td>180.0</td>\n",
       "      <td>196.0</td>\n",
       "      <td>206.0</td>\n",
       "      <td>203.0</td>\n",
       "      <td>188.0</td>\n",
       "      <td>212.0</td>\n",
       "      <td>225.0</td>\n",
       "      <td>235.0</td>\n",
       "      <td>227.0</td>\n",
       "      <td>222.0</td>\n",
       "    </tr>\n",
       "    <tr>\n",
       "      <th>3</th>\n",
       "      <td>Andorra</td>\n",
       "      <td>1470.0</td>\n",
       "      <td>1600.0</td>\n",
       "      <td>1790.0</td>\n",
       "      <td>2320.0</td>\n",
       "      <td>1830.0</td>\n",
       "      <td>1970.0</td>\n",
       "      <td>1950.0</td>\n",
       "      <td>2150.0</td>\n",
       "      <td>2230.0</td>\n",
       "      <td>2330.0</td>\n",
       "      <td>2480.0</td>\n",
       "    </tr>\n",
       "    <tr>\n",
       "      <th>4</th>\n",
       "      <td>Angola</td>\n",
       "      <td>68.6</td>\n",
       "      <td>43.0</td>\n",
       "      <td>48.1</td>\n",
       "      <td>41.6</td>\n",
       "      <td>44.3</td>\n",
       "      <td>56.3</td>\n",
       "      <td>82.2</td>\n",
       "      <td>63.4</td>\n",
       "      <td>72.1</td>\n",
       "      <td>63.0</td>\n",
       "      <td>71.3</td>\n",
       "    </tr>\n",
       "    <tr>\n",
       "      <th>5</th>\n",
       "      <td>Antigua and Barbuda</td>\n",
       "      <td>502.0</td>\n",
       "      <td>502.0</td>\n",
       "      <td>527.0</td>\n",
       "      <td>544.0</td>\n",
       "      <td>565.0</td>\n",
       "      <td>585.0</td>\n",
       "      <td>580.0</td>\n",
       "      <td>595.0</td>\n",
       "      <td>642.0</td>\n",
       "      <td>689.0</td>\n",
       "      <td>734.0</td>\n",
       "    </tr>\n",
       "  </tbody>\n",
       "</table>\n",
       "</div>"
      ],
      "text/plain": [
       "                   geo  h_spd_1995  h_spd_1996  h_spd_1997  h_spd_1998  \\\n",
       "1              Albania       106.0       146.0       156.0       184.0   \n",
       "2              Algeria       192.0       180.0       196.0       206.0   \n",
       "3              Andorra      1470.0      1600.0      1790.0      2320.0   \n",
       "4               Angola        68.6        43.0        48.1        41.6   \n",
       "5  Antigua and Barbuda       502.0       502.0       527.0       544.0   \n",
       "\n",
       "   h_spd_1999  h_spd_2000  h_spd_2001  h_spd_2002  h_spd_2003  h_spd_2004  \\\n",
       "1       225.0       266.0       279.0       303.0       326.0       380.0   \n",
       "2       203.0       188.0       212.0       225.0       235.0       227.0   \n",
       "3      1830.0      1970.0      1950.0      2150.0      2230.0      2330.0   \n",
       "4        44.3        56.3        82.2        63.4        72.1        63.0   \n",
       "5       565.0       585.0       580.0       595.0       642.0       689.0   \n",
       "\n",
       "   h_spd_2005  \n",
       "1       407.0  \n",
       "2       222.0  \n",
       "3      2480.0  \n",
       "4        71.3  \n",
       "5       734.0  "
      ]
     },
     "execution_count": 8,
     "metadata": {},
     "output_type": "execute_result"
    }
   ],
   "source": [
    "# create dataframe for total health spending\n",
    "df_tt_spend_pp_95_05=df_tt_h_spd_pp[columns].copy()\n",
    "# rename columns by adding prefix 'h_spd_'\n",
    "df_tt_spend_pp_95_05.rename(lambda c:'h_spd_'+c if c!='geo' else c, axis='columns', inplace=True)\n",
    "# Remove empty and duplicated data\n",
    "df_tt_spend_pp_95_05.dropna(inplace=True)\n",
    "df_tt_spend_pp_95_05.drop_duplicates(inplace=True)\n",
    "df_tt_spend_pp_95_05.head()"
   ]
  },
  {
   "cell_type": "code",
   "execution_count": 9,
   "metadata": {},
   "outputs": [
    {
     "data": {
      "text/html": [
       "<div>\n",
       "<style scoped>\n",
       "    .dataframe tbody tr th:only-of-type {\n",
       "        vertical-align: middle;\n",
       "    }\n",
       "\n",
       "    .dataframe tbody tr th {\n",
       "        vertical-align: top;\n",
       "    }\n",
       "\n",
       "    .dataframe thead th {\n",
       "        text-align: right;\n",
       "    }\n",
       "</style>\n",
       "<table border=\"1\" class=\"dataframe\">\n",
       "  <thead>\n",
       "    <tr style=\"text-align: right;\">\n",
       "      <th></th>\n",
       "      <th>geo</th>\n",
       "      <th>suid_1995</th>\n",
       "      <th>suid_1996</th>\n",
       "      <th>suid_1997</th>\n",
       "      <th>suid_1998</th>\n",
       "      <th>suid_1999</th>\n",
       "      <th>suid_2000</th>\n",
       "      <th>suid_2001</th>\n",
       "      <th>suid_2002</th>\n",
       "      <th>suid_2003</th>\n",
       "      <th>suid_2004</th>\n",
       "      <th>suid_2005</th>\n",
       "    </tr>\n",
       "  </thead>\n",
       "  <tbody>\n",
       "    <tr>\n",
       "      <th>6</th>\n",
       "      <td>Argentina</td>\n",
       "      <td>6.50</td>\n",
       "      <td>6.52</td>\n",
       "      <td>6.41</td>\n",
       "      <td>6.57</td>\n",
       "      <td>6.71</td>\n",
       "      <td>7.58</td>\n",
       "      <td>8.43</td>\n",
       "      <td>8.40</td>\n",
       "      <td>8.57</td>\n",
       "      <td>8.05</td>\n",
       "      <td>7.77</td>\n",
       "    </tr>\n",
       "    <tr>\n",
       "      <th>8</th>\n",
       "      <td>Australia</td>\n",
       "      <td>11.30</td>\n",
       "      <td>12.40</td>\n",
       "      <td>13.50</td>\n",
       "      <td>13.30</td>\n",
       "      <td>12.40</td>\n",
       "      <td>11.70</td>\n",
       "      <td>11.80</td>\n",
       "      <td>11.00</td>\n",
       "      <td>10.10</td>\n",
       "      <td>9.66</td>\n",
       "      <td>8.47</td>\n",
       "    </tr>\n",
       "    <tr>\n",
       "      <th>9</th>\n",
       "      <td>Austria</td>\n",
       "      <td>18.20</td>\n",
       "      <td>17.70</td>\n",
       "      <td>16.10</td>\n",
       "      <td>15.70</td>\n",
       "      <td>15.40</td>\n",
       "      <td>15.90</td>\n",
       "      <td>14.80</td>\n",
       "      <td>15.20</td>\n",
       "      <td>14.10</td>\n",
       "      <td>13.60</td>\n",
       "      <td>13.10</td>\n",
       "    </tr>\n",
       "    <tr>\n",
       "      <th>23</th>\n",
       "      <td>Brazil</td>\n",
       "      <td>4.61</td>\n",
       "      <td>4.59</td>\n",
       "      <td>4.65</td>\n",
       "      <td>4.57</td>\n",
       "      <td>4.16</td>\n",
       "      <td>4.24</td>\n",
       "      <td>4.69</td>\n",
       "      <td>4.57</td>\n",
       "      <td>4.54</td>\n",
       "      <td>4.54</td>\n",
       "      <td>4.78</td>\n",
       "    </tr>\n",
       "    <tr>\n",
       "      <th>25</th>\n",
       "      <td>Bulgaria</td>\n",
       "      <td>13.50</td>\n",
       "      <td>14.50</td>\n",
       "      <td>13.70</td>\n",
       "      <td>14.20</td>\n",
       "      <td>12.30</td>\n",
       "      <td>13.10</td>\n",
       "      <td>12.40</td>\n",
       "      <td>12.40</td>\n",
       "      <td>10.40</td>\n",
       "      <td>9.52</td>\n",
       "      <td>9.22</td>\n",
       "    </tr>\n",
       "  </tbody>\n",
       "</table>\n",
       "</div>"
      ],
      "text/plain": [
       "          geo  suid_1995  suid_1996  suid_1997  suid_1998  suid_1999  \\\n",
       "6   Argentina       6.50       6.52       6.41       6.57       6.71   \n",
       "8   Australia      11.30      12.40      13.50      13.30      12.40   \n",
       "9     Austria      18.20      17.70      16.10      15.70      15.40   \n",
       "23     Brazil       4.61       4.59       4.65       4.57       4.16   \n",
       "25   Bulgaria      13.50      14.50      13.70      14.20      12.30   \n",
       "\n",
       "    suid_2000  suid_2001  suid_2002  suid_2003  suid_2004  suid_2005  \n",
       "6        7.58       8.43       8.40       8.57       8.05       7.77  \n",
       "8       11.70      11.80      11.00      10.10       9.66       8.47  \n",
       "9       15.90      14.80      15.20      14.10      13.60      13.10  \n",
       "23       4.24       4.69       4.57       4.54       4.54       4.78  \n",
       "25      13.10      12.40      12.40      10.40       9.52       9.22  "
      ]
     },
     "execution_count": 9,
     "metadata": {},
     "output_type": "execute_result"
    }
   ],
   "source": [
    "# creat dataframe for suicide per 100k\n",
    "df_suid_p100k_95_05 = df_suid_p100k[columns].copy()\n",
    "# rename columns by adding prefix 'suid_'\n",
    "df_suid_p100k_95_05.rename(lambda c:'suid_'+c if c!='geo' else c, axis='columns', inplace=True)\n",
    "# Remove empty and duplicated data\n",
    "df_suid_p100k_95_05.dropna(inplace=True)\n",
    "df_suid_p100k_95_05.drop_duplicates(inplace=True)\n",
    "df_suid_p100k_95_05.head()"
   ]
  },
  {
   "cell_type": "code",
   "execution_count": 10,
   "metadata": {},
   "outputs": [
    {
     "data": {
      "text/html": [
       "<div>\n",
       "<style scoped>\n",
       "    .dataframe tbody tr th:only-of-type {\n",
       "        vertical-align: middle;\n",
       "    }\n",
       "\n",
       "    .dataframe tbody tr th {\n",
       "        vertical-align: top;\n",
       "    }\n",
       "\n",
       "    .dataframe thead th {\n",
       "        text-align: right;\n",
       "    }\n",
       "</style>\n",
       "<table border=\"1\" class=\"dataframe\">\n",
       "  <thead>\n",
       "    <tr style=\"text-align: right;\">\n",
       "      <th></th>\n",
       "      <th>geo</th>\n",
       "      <th>hdi_1995</th>\n",
       "      <th>hdi_1996</th>\n",
       "      <th>hdi_1997</th>\n",
       "      <th>hdi_1998</th>\n",
       "      <th>hdi_1999</th>\n",
       "      <th>hdi_2000</th>\n",
       "      <th>hdi_2001</th>\n",
       "      <th>hdi_2002</th>\n",
       "      <th>hdi_2003</th>\n",
       "      <th>hdi_2004</th>\n",
       "      <th>hdi_2005</th>\n",
       "    </tr>\n",
       "  </thead>\n",
       "  <tbody>\n",
       "    <tr>\n",
       "      <th>0</th>\n",
       "      <td>Afghanistan</td>\n",
       "      <td>0.324</td>\n",
       "      <td>0.328</td>\n",
       "      <td>0.332</td>\n",
       "      <td>0.335</td>\n",
       "      <td>0.338</td>\n",
       "      <td>0.340</td>\n",
       "      <td>0.341</td>\n",
       "      <td>0.373</td>\n",
       "      <td>0.381</td>\n",
       "      <td>0.396</td>\n",
       "      <td>0.405</td>\n",
       "    </tr>\n",
       "    <tr>\n",
       "      <th>1</th>\n",
       "      <td>Albania</td>\n",
       "      <td>0.628</td>\n",
       "      <td>0.637</td>\n",
       "      <td>0.636</td>\n",
       "      <td>0.646</td>\n",
       "      <td>0.656</td>\n",
       "      <td>0.662</td>\n",
       "      <td>0.670</td>\n",
       "      <td>0.674</td>\n",
       "      <td>0.681</td>\n",
       "      <td>0.685</td>\n",
       "      <td>0.696</td>\n",
       "    </tr>\n",
       "    <tr>\n",
       "      <th>2</th>\n",
       "      <td>Algeria</td>\n",
       "      <td>0.600</td>\n",
       "      <td>0.609</td>\n",
       "      <td>0.617</td>\n",
       "      <td>0.627</td>\n",
       "      <td>0.636</td>\n",
       "      <td>0.644</td>\n",
       "      <td>0.653</td>\n",
       "      <td>0.663</td>\n",
       "      <td>0.673</td>\n",
       "      <td>0.680</td>\n",
       "      <td>0.686</td>\n",
       "    </tr>\n",
       "    <tr>\n",
       "      <th>6</th>\n",
       "      <td>Argentina</td>\n",
       "      <td>0.731</td>\n",
       "      <td>0.738</td>\n",
       "      <td>0.746</td>\n",
       "      <td>0.753</td>\n",
       "      <td>0.764</td>\n",
       "      <td>0.771</td>\n",
       "      <td>0.776</td>\n",
       "      <td>0.770</td>\n",
       "      <td>0.775</td>\n",
       "      <td>0.780</td>\n",
       "      <td>0.782</td>\n",
       "    </tr>\n",
       "    <tr>\n",
       "      <th>7</th>\n",
       "      <td>Armenia</td>\n",
       "      <td>0.603</td>\n",
       "      <td>0.609</td>\n",
       "      <td>0.618</td>\n",
       "      <td>0.632</td>\n",
       "      <td>0.639</td>\n",
       "      <td>0.644</td>\n",
       "      <td>0.645</td>\n",
       "      <td>0.657</td>\n",
       "      <td>0.668</td>\n",
       "      <td>0.679</td>\n",
       "      <td>0.692</td>\n",
       "    </tr>\n",
       "  </tbody>\n",
       "</table>\n",
       "</div>"
      ],
      "text/plain": [
       "           geo  hdi_1995  hdi_1996  hdi_1997  hdi_1998  hdi_1999  hdi_2000  \\\n",
       "0  Afghanistan     0.324     0.328     0.332     0.335     0.338     0.340   \n",
       "1      Albania     0.628     0.637     0.636     0.646     0.656     0.662   \n",
       "2      Algeria     0.600     0.609     0.617     0.627     0.636     0.644   \n",
       "6    Argentina     0.731     0.738     0.746     0.753     0.764     0.771   \n",
       "7      Armenia     0.603     0.609     0.618     0.632     0.639     0.644   \n",
       "\n",
       "   hdi_2001  hdi_2002  hdi_2003  hdi_2004  hdi_2005  \n",
       "0     0.341     0.373     0.381     0.396     0.405  \n",
       "1     0.670     0.674     0.681     0.685     0.696  \n",
       "2     0.653     0.663     0.673     0.680     0.686  \n",
       "6     0.776     0.770     0.775     0.780     0.782  \n",
       "7     0.645     0.657     0.668     0.679     0.692  "
      ]
     },
     "execution_count": 10,
     "metadata": {},
     "output_type": "execute_result"
    }
   ],
   "source": [
    "# create dataframe for HDI\n",
    "df_hdi_95_05 = df_hdi[columns].copy()\n",
    "# rename columns by adding prefix 'hdi_'\n",
    "df_hdi_95_05.rename(lambda c:'hdi_'+c if c!='geo' else c, axis='columns', inplace=True)\n",
    "# Remove empty and duplicated data\n",
    "df_hdi_95_05.dropna(inplace=True)\n",
    "df_hdi_95_05.drop_duplicates(inplace=True)\n",
    "df_hdi_95_05.head()"
   ]
  },
  {
   "cell_type": "code",
   "execution_count": 11,
   "metadata": {},
   "outputs": [
    {
     "data": {
      "text/html": [
       "<div>\n",
       "<style scoped>\n",
       "    .dataframe tbody tr th:only-of-type {\n",
       "        vertical-align: middle;\n",
       "    }\n",
       "\n",
       "    .dataframe tbody tr th {\n",
       "        vertical-align: top;\n",
       "    }\n",
       "\n",
       "    .dataframe thead th {\n",
       "        text-align: right;\n",
       "    }\n",
       "</style>\n",
       "<table border=\"1\" class=\"dataframe\">\n",
       "  <thead>\n",
       "    <tr style=\"text-align: right;\">\n",
       "      <th></th>\n",
       "      <th>geo</th>\n",
       "      <th>lbr_1995</th>\n",
       "      <th>lbr_1996</th>\n",
       "      <th>lbr_1997</th>\n",
       "      <th>lbr_1998</th>\n",
       "      <th>lbr_1999</th>\n",
       "      <th>lbr_2000</th>\n",
       "      <th>lbr_2001</th>\n",
       "      <th>lbr_2002</th>\n",
       "      <th>lbr_2003</th>\n",
       "      <th>lbr_2004</th>\n",
       "      <th>lbr_2005</th>\n",
       "    </tr>\n",
       "  </thead>\n",
       "  <tbody>\n",
       "    <tr>\n",
       "      <th>0</th>\n",
       "      <td>Afghanistan</td>\n",
       "      <td>64.6</td>\n",
       "      <td>64.5</td>\n",
       "      <td>64.4</td>\n",
       "      <td>64.3</td>\n",
       "      <td>64.3</td>\n",
       "      <td>64.3</td>\n",
       "      <td>64.3</td>\n",
       "      <td>64.4</td>\n",
       "      <td>64.5</td>\n",
       "      <td>64.6</td>\n",
       "      <td>64.7</td>\n",
       "    </tr>\n",
       "    <tr>\n",
       "      <th>1</th>\n",
       "      <td>Albania</td>\n",
       "      <td>75.6</td>\n",
       "      <td>76.2</td>\n",
       "      <td>75.6</td>\n",
       "      <td>76.3</td>\n",
       "      <td>76.9</td>\n",
       "      <td>77.2</td>\n",
       "      <td>77.5</td>\n",
       "      <td>77.6</td>\n",
       "      <td>77.8</td>\n",
       "      <td>78.0</td>\n",
       "      <td>78.1</td>\n",
       "    </tr>\n",
       "    <tr>\n",
       "      <th>2</th>\n",
       "      <td>Algeria</td>\n",
       "      <td>63.5</td>\n",
       "      <td>64.1</td>\n",
       "      <td>64.7</td>\n",
       "      <td>65.2</td>\n",
       "      <td>65.8</td>\n",
       "      <td>66.4</td>\n",
       "      <td>66.9</td>\n",
       "      <td>67.4</td>\n",
       "      <td>67.8</td>\n",
       "      <td>68.2</td>\n",
       "      <td>68.6</td>\n",
       "    </tr>\n",
       "    <tr>\n",
       "      <th>3</th>\n",
       "      <td>Angola</td>\n",
       "      <td>86.5</td>\n",
       "      <td>86.6</td>\n",
       "      <td>86.6</td>\n",
       "      <td>86.9</td>\n",
       "      <td>87.1</td>\n",
       "      <td>87.0</td>\n",
       "      <td>87.0</td>\n",
       "      <td>87.3</td>\n",
       "      <td>87.2</td>\n",
       "      <td>87.4</td>\n",
       "      <td>87.7</td>\n",
       "    </tr>\n",
       "    <tr>\n",
       "      <th>4</th>\n",
       "      <td>Argentina</td>\n",
       "      <td>73.7</td>\n",
       "      <td>74.4</td>\n",
       "      <td>75.1</td>\n",
       "      <td>75.7</td>\n",
       "      <td>76.4</td>\n",
       "      <td>77.1</td>\n",
       "      <td>77.7</td>\n",
       "      <td>78.4</td>\n",
       "      <td>79.0</td>\n",
       "      <td>79.7</td>\n",
       "      <td>80.3</td>\n",
       "    </tr>\n",
       "  </tbody>\n",
       "</table>\n",
       "</div>"
      ],
      "text/plain": [
       "           geo  lbr_1995  lbr_1996  lbr_1997  lbr_1998  lbr_1999  lbr_2000  \\\n",
       "0  Afghanistan      64.6      64.5      64.4      64.3      64.3      64.3   \n",
       "1      Albania      75.6      76.2      75.6      76.3      76.9      77.2   \n",
       "2      Algeria      63.5      64.1      64.7      65.2      65.8      66.4   \n",
       "3       Angola      86.5      86.6      86.6      86.9      87.1      87.0   \n",
       "4    Argentina      73.7      74.4      75.1      75.7      76.4      77.1   \n",
       "\n",
       "   lbr_2001  lbr_2002  lbr_2003  lbr_2004  lbr_2005  \n",
       "0      64.3      64.4      64.5      64.6      64.7  \n",
       "1      77.5      77.6      77.8      78.0      78.1  \n",
       "2      66.9      67.4      67.8      68.2      68.6  \n",
       "3      87.0      87.3      87.2      87.4      87.7  \n",
       "4      77.7      78.4      79.0      79.7      80.3  "
      ]
     },
     "execution_count": 11,
     "metadata": {},
     "output_type": "execute_result"
    }
   ],
   "source": [
    "# create dataframe for labor force\n",
    "df_lbr_frc_95_05 = df_lbr_frc_25_54[columns].copy()\n",
    "# rename columns by adding prefix 'lbr_'\n",
    "df_lbr_frc_95_05.rename(lambda c:'lbr_'+c if c!='geo' else c, axis='columns', inplace=True)\n",
    "# Remove empty and duplicated data\n",
    "df_lbr_frc_95_05.dropna(inplace=True)\n",
    "df_lbr_frc_95_05.drop_duplicates(inplace=True)\n",
    "df_lbr_frc_95_05.head()"
   ]
  },
  {
   "cell_type": "markdown",
   "metadata": {},
   "source": [
    "#### 2. Fill the sex ratio data by 5-year mean values"
   ]
  },
  {
   "cell_type": "code",
   "execution_count": 12,
   "metadata": {},
   "outputs": [
    {
     "data": {
      "text/html": [
       "<div>\n",
       "<style scoped>\n",
       "    .dataframe tbody tr th:only-of-type {\n",
       "        vertical-align: middle;\n",
       "    }\n",
       "\n",
       "    .dataframe tbody tr th {\n",
       "        vertical-align: top;\n",
       "    }\n",
       "\n",
       "    .dataframe thead th {\n",
       "        text-align: right;\n",
       "    }\n",
       "</style>\n",
       "<table border=\"1\" class=\"dataframe\">\n",
       "  <thead>\n",
       "    <tr style=\"text-align: right;\">\n",
       "      <th></th>\n",
       "      <th>geo</th>\n",
       "      <th>sex_1995</th>\n",
       "      <th>sex_1996</th>\n",
       "      <th>sex_1997</th>\n",
       "      <th>sex_1998</th>\n",
       "      <th>sex_1999</th>\n",
       "      <th>sex_2000</th>\n",
       "      <th>sex_2001</th>\n",
       "      <th>sex_2002</th>\n",
       "      <th>sex_2003</th>\n",
       "      <th>sex_2004</th>\n",
       "      <th>sex_2005</th>\n",
       "    </tr>\n",
       "  </thead>\n",
       "  <tbody>\n",
       "    <tr>\n",
       "      <th>0</th>\n",
       "      <td>Afghanistan</td>\n",
       "      <td>107.0</td>\n",
       "      <td>106.80</td>\n",
       "      <td>106.60</td>\n",
       "      <td>106.40</td>\n",
       "      <td>106.20</td>\n",
       "      <td>106.0</td>\n",
       "      <td>106.2</td>\n",
       "      <td>106.4</td>\n",
       "      <td>106.6</td>\n",
       "      <td>106.8</td>\n",
       "      <td>107.0</td>\n",
       "    </tr>\n",
       "    <tr>\n",
       "      <th>1</th>\n",
       "      <td>Albania</td>\n",
       "      <td>96.9</td>\n",
       "      <td>97.92</td>\n",
       "      <td>98.94</td>\n",
       "      <td>99.96</td>\n",
       "      <td>100.98</td>\n",
       "      <td>102.0</td>\n",
       "      <td>101.8</td>\n",
       "      <td>101.6</td>\n",
       "      <td>101.4</td>\n",
       "      <td>101.2</td>\n",
       "      <td>101.0</td>\n",
       "    </tr>\n",
       "    <tr>\n",
       "      <th>2</th>\n",
       "      <td>Algeria</td>\n",
       "      <td>103.0</td>\n",
       "      <td>103.00</td>\n",
       "      <td>103.00</td>\n",
       "      <td>103.00</td>\n",
       "      <td>103.00</td>\n",
       "      <td>103.0</td>\n",
       "      <td>102.8</td>\n",
       "      <td>102.6</td>\n",
       "      <td>102.4</td>\n",
       "      <td>102.2</td>\n",
       "      <td>102.0</td>\n",
       "    </tr>\n",
       "    <tr>\n",
       "      <th>3</th>\n",
       "      <td>Angola</td>\n",
       "      <td>95.5</td>\n",
       "      <td>95.52</td>\n",
       "      <td>95.54</td>\n",
       "      <td>95.56</td>\n",
       "      <td>95.58</td>\n",
       "      <td>95.6</td>\n",
       "      <td>95.6</td>\n",
       "      <td>95.6</td>\n",
       "      <td>95.6</td>\n",
       "      <td>95.6</td>\n",
       "      <td>95.6</td>\n",
       "    </tr>\n",
       "    <tr>\n",
       "      <th>4</th>\n",
       "      <td>Antigua and Barbuda</td>\n",
       "      <td>94.6</td>\n",
       "      <td>93.50</td>\n",
       "      <td>92.40</td>\n",
       "      <td>91.30</td>\n",
       "      <td>90.20</td>\n",
       "      <td>89.1</td>\n",
       "      <td>89.7</td>\n",
       "      <td>90.3</td>\n",
       "      <td>90.9</td>\n",
       "      <td>91.5</td>\n",
       "      <td>92.1</td>\n",
       "    </tr>\n",
       "  </tbody>\n",
       "</table>\n",
       "</div>"
      ],
      "text/plain": [
       "                   geo  sex_1995  sex_1996  sex_1997  sex_1998  sex_1999  \\\n",
       "0          Afghanistan     107.0    106.80    106.60    106.40    106.20   \n",
       "1              Albania      96.9     97.92     98.94     99.96    100.98   \n",
       "2              Algeria     103.0    103.00    103.00    103.00    103.00   \n",
       "3               Angola      95.5     95.52     95.54     95.56     95.58   \n",
       "4  Antigua and Barbuda      94.6     93.50     92.40     91.30     90.20   \n",
       "\n",
       "   sex_2000  sex_2001  sex_2002  sex_2003  sex_2004  sex_2005  \n",
       "0     106.0     106.2     106.4     106.6     106.8     107.0  \n",
       "1     102.0     101.8     101.6     101.4     101.2     101.0  \n",
       "2     103.0     102.8     102.6     102.4     102.2     102.0  \n",
       "3      95.6      95.6      95.6      95.6      95.6      95.6  \n",
       "4      89.1      89.7      90.3      90.9      91.5      92.1  "
      ]
     },
     "execution_count": 12,
     "metadata": {},
     "output_type": "execute_result"
    }
   ],
   "source": [
    "# create dataframe for sex ratio\n",
    "df_sex_ratio_95_05 = df_sex_ratio[columns].copy()\n",
    "\n",
    "# calculate the average increment in 1995-2000 and \n",
    "# fill the calculated data into the corresponding column\n",
    "df_sex_ratio_95_05['1996'] = df_sex_ratio_95_05.apply(lambda row:(row['2000']-row['1995'])/5*1+row['1995'], axis=1)\n",
    "df_sex_ratio_95_05['1997'] = df_sex_ratio_95_05.apply(lambda row:(row['2000']-row['1995'])/5*2+row['1995'], axis=1)\n",
    "df_sex_ratio_95_05['1998'] = df_sex_ratio_95_05.apply(lambda row:(row['2000']-row['1995'])/5*3+row['1995'], axis=1)\n",
    "df_sex_ratio_95_05['1999'] = df_sex_ratio_95_05.apply(lambda row:(row['2000']-row['1995'])/5*4+row['1995'], axis=1)\n",
    "\n",
    "# calculate the average increment in 1995-2000 and \n",
    "# fill the calculated data into the corresponding column\n",
    "df_sex_ratio_95_05['2001'] = df_sex_ratio_95_05.apply(lambda row:(row['2005']-row['2000'])/5*1+row['2000'], axis=1)\n",
    "df_sex_ratio_95_05['2002'] = df_sex_ratio_95_05.apply(lambda row:(row['2005']-row['2000'])/5*2+row['2000'], axis=1)\n",
    "df_sex_ratio_95_05['2003'] = df_sex_ratio_95_05.apply(lambda row:(row['2005']-row['2000'])/5*3+row['2000'], axis=1)\n",
    "df_sex_ratio_95_05['2004'] = df_sex_ratio_95_05.apply(lambda row:(row['2005']-row['2000'])/5*4+row['2000'], axis=1)\n",
    "\n",
    "# rename columns by adding prefix 'sex_'\n",
    "df_sex_ratio_95_05.rename(lambda c:'sex_'+c if c!='geo' else c, axis='columns', inplace=True)\n",
    "# Remove empty and duplicated data\n",
    "df_sex_ratio_95_05.dropna(inplace=True)\n",
    "df_sex_ratio_95_05.drop_duplicates(inplace=True)\n",
    "df_sex_ratio_95_05.head()"
   ]
  },
  {
   "cell_type": "markdown",
   "metadata": {},
   "source": [
    "#### 3. Transform the dataframe to integrate all indicators and group by country."
   ]
  },
  {
   "cell_type": "code",
   "execution_count": 13,
   "metadata": {},
   "outputs": [],
   "source": [
    "# the new dataframe structure\n",
    "new_columns = ['geo','gdp_gr_pc','inflation','work_hour','mean_yr_scl',\n",
    "               'tt_spend_pp','suid_per_100k','hdi','lbr_frc','sex_ratio','year']"
   ]
  },
  {
   "cell_type": "markdown",
   "metadata": {},
   "source": [
    "**A function is declared to create the formated dataframe based on years**"
   ]
  },
  {
   "cell_type": "code",
   "execution_count": 14,
   "metadata": {},
   "outputs": [],
   "source": [
    "# define a function to construct new dataframe by input year str\n",
    "def constructYearlyDF(yr):\n",
    "    dfs_temp= [df_gdp_gr_pc_95_05[['geo','gdp_'+str(yr)]],    df_inflation_95_05[['geo','inf_'+str(yr)]], \n",
    "      df_work_hour_95_05[['geo','wh_'+str(yr)]],      df_mean_yr_scl_95_05[['geo','yr_scl_'+str(yr)]], \n",
    "      df_tt_spend_pp_95_05[['geo','h_spd_'+str(yr)]], df_suid_p100k_95_05[['geo','suid_'+str(yr)]],\n",
    "      df_hdi_95_05[['geo','hdi_'+str(yr)]],           df_lbr_frc_95_05[['geo','lbr_'+str(yr)]], \n",
    "      df_sex_ratio_95_05[['geo','sex_'+str(yr)]]]\n",
    "    # merge all dataframes in that year, join by 'geo'\n",
    "    df_year = reduce(lambda left,right: pd.merge(left,right,on='geo'), dfs_temp)\n",
    "    df_year['year']=yr\n",
    "    # clean\n",
    "    df_year.dropna(inplace=True)\n",
    "    df_year.columns=new_columns\n",
    "    return df_year "
   ]
  },
  {
   "cell_type": "code",
   "execution_count": 15,
   "metadata": {
    "scrolled": true
   },
   "outputs": [],
   "source": [
    "# define a dataframe list in which to hold all processed dataframes\n",
    "# this list will be used later to create the final dataset \n",
    "dfs=[]\n",
    "years = [1995,1996,1997,1998,1999,2000,2001,2002,2003,2004,2005]\n",
    "for i in range(len(years)):\n",
    "    df_year = constructYearlyDF(years[i])\n",
    "    dfs.append(df_year)"
   ]
  },
  {
   "cell_type": "code",
   "execution_count": 16,
   "metadata": {},
   "outputs": [],
   "source": [
    "# merge all yearly dataframe to a creater the finall dataframe with columns (geo, year, indicator1, indicator2, ...)\n",
    "df = pd.DataFrame(columns=new_columns)\n",
    "df = df.append(dfs, ignore_index=True)\n",
    "df['year'].astype(int)\n",
    "df.dropna(inplace=True)\n",
    "df.drop_duplicates(inplace=True)"
   ]
  },
  {
   "cell_type": "code",
   "execution_count": 17,
   "metadata": {},
   "outputs": [],
   "source": [
    "# Get the countries' names which have the most existence frequency\n",
    "sel_countries = df.geo.mode()\n",
    "sel_countries\n",
    "# Just keep the countories with most existence frequency\n",
    "df = df[df['geo'].isin(sel_countries)]"
   ]
  },
  {
   "cell_type": "code",
   "execution_count": 18,
   "metadata": {},
   "outputs": [
    {
     "data": {
      "text/plain": [
       "Text(0,0.5,'Country Number')"
      ]
     },
     "execution_count": 18,
     "metadata": {},
     "output_type": "execute_result"
    },
    {
     "data": {
      "image/png": "[encoded data removed]",
      "text/plain": [
       "<Figure size 432x288 with 1 Axes>"
      ]
     },
     "metadata": {},
     "output_type": "display_data"
    }
   ],
   "source": [
    "# test\n",
    "# check the distribution of gdp growth\n",
    "df.query('year==1995')['gdp_gr_pc'].hist()\n",
    "plt.title(\"Histogram of GDP growth (per capita) on year 1995\")\n",
    "plt.xlabel(\"GDP growth percent (per capita)\")\n",
    "plt.ylabel(\"Country Number\")"
   ]
  },
  {
   "cell_type": "markdown",
   "metadata": {},
   "source": [
    "<a id='eda'></a>\n",
    "## Exploratory Data Analysis"
   ]
  },
  {
   "cell_type": "markdown",
   "metadata": {
    "collapsed": true
   },
   "source": [
    "#### 1. Does the countries which have higer HDI will have shorter working hours?\n",
    "\n",
    "- ***Step 1:*** By specifying the year (e.g.2005), get mean HDI and then seperate the weekly working hours to 2 groups: (1) the mean working hour of countries of which have higher HDI; (2) the mean working hour of countries of which have lower HDI. \n",
    "- ***Step 2:*** Abstrat a function which can accept the year as parameter, and return the mean working hour lists.\n",
    "- ***Step 3:*** Apply the step2's common method to each year and get the result list.\n",
    "- ***Step 4:*** Generate bar chart. The x axis is the year information. On each year, there are 2 mean working hour groups (refer to the groups' description in step1).\n",
    "\n",
    "> The step1(specify a year) is just for testing, and a common method can be extracted to get each year's data by setting the 'year' as input parameter. So step 1 is not demonstrate here.\n"
   ]
  },
  {
   "cell_type": "code",
   "execution_count": 19,
   "metadata": {
    "scrolled": true
   },
   "outputs": [],
   "source": [
    "# result list to store the mean working hours of which countries have higher hdi (hdi>mean hdi)\n",
    "mean_wh_arr1=[]\n",
    "# result list to store the mean working hours of which countries have lower hdi (hdi<mean hdi)\n",
    "mean_wh_arr2=[]\n",
    "# loop years to fill the above result lists\n",
    "for i in range(len(years)):\n",
    "    # get the year's mean hdi\n",
    "    mean_hdi = df.query('year=='+str(years[i]))['hdi'].mean()\n",
    "    # get the mean working hours which hdi is above the mean hdi\n",
    "    mean_wh_abv_hdi = df.query('hdi>'+str(mean_hdi)+' and year=='+str(years[i]))['work_hour'].mean()\n",
    "    # get the mean working hours which hdi is below the mean hdi\n",
    "    mean_wh_blw_hdi = df.query('hdi<='+str(mean_hdi)+' and year=='+str(years[i]))['work_hour'].mean()\n",
    "    # append yearly results to the result lists \n",
    "    mean_wh_arr1.append(mean_wh_abv_hdi)\n",
    "    mean_wh_arr2.append(mean_wh_blw_hdi)"
   ]
  },
  {
   "cell_type": "code",
   "execution_count": 20,
   "metadata": {},
   "outputs": [
    {
     "data": {
      "image/png": "[encoded data removed]",
      "text/plain": [
       "<Figure size 432x288 with 1 Axes>"
      ]
     },
     "metadata": {},
     "output_type": "display_data"
    },
    {
     "data": {
      "text/plain": [
       "<Figure size 21600x28800 with 0 Axes>"
      ]
     },
     "metadata": {},
     "output_type": "display_data"
    }
   ],
   "source": [
    "# Create figure to compare the working hours with 2 groups. \n",
    "# x-axis:year, y-axis: mean working hours.\n",
    "fig, ax = plt.subplots()\n",
    "width=0.35\n",
    "p1 = ax.bar([int(y) for y in years], mean_wh_arr1, width, color='b')\n",
    "p2 = ax.bar([float(x)+width for x in years], mean_wh_arr2, width, color='y')\n",
    "ax.set_title('Mean working hours comparation for higher and lower HDI')\n",
    "ax.legend((p1[0], p2[0]), ('Working hours(HDI>Mean)', 'Working hours(HDI<=Mean)'))\n",
    "ax.set_xlabel(\"Year (1995-2005)\")\n",
    "ax.set_ylabel(\"Weekly Working Hours\")\n",
    "plt.figure(figsize=(300,400))\n",
    "plt.show()"
   ]
  },
  {
   "cell_type": "markdown",
   "metadata": {},
   "source": [
    "This chart shows that people in higher HDI countries have less weekly working hours than that in the lower HDI countries. This sitution is same from 1995 to 2005."
   ]
  },
  {
   "cell_type": "markdown",
   "metadata": {},
   "source": [
    "#### 2. Does the countries have higher HDI will have higher health spending per person?\n",
    "> The steps are similar with the question 1, while here the **'total health spending per person'** is used instead of working hours. "
   ]
  },
  {
   "cell_type": "code",
   "execution_count": 21,
   "metadata": {
    "scrolled": false
   },
   "outputs": [],
   "source": [
    "# the methods for finding the relationship are similar with methods in the questing 1.\n",
    "# the column 'tt_spend_pp' is used\n",
    "mean_hs_arr1=[]\n",
    "mean_hs_arr2=[]\n",
    "for i in range(len(years)):\n",
    "    mean_hdi = df.query('year=='+str(years[i]))['hdi'].mean()\n",
    "    mean_hs_abv_hdi = df.query('hdi>'+str(mean_hdi)+' and year=='+str(years[i]))['tt_spend_pp'].mean()\n",
    "    mean_hs_blw_hdi = df.query('hdi<='+str(mean_hdi)+' and year=='+str(years[i]))['tt_spend_pp'].mean()\n",
    "    mean_hs_arr1.append(mean_hs_abv_hdi)\n",
    "    mean_hs_arr2.append(mean_hs_blw_hdi)"
   ]
  },
  {
   "cell_type": "code",
   "execution_count": 22,
   "metadata": {
    "scrolled": true
   },
   "outputs": [
    {
     "data": {
      "image/png": "[encoded data removed]",
      "text/plain": [
       "<Figure size 432x288 with 1 Axes>"
      ]
     },
     "metadata": {},
     "output_type": "display_data"
    },
    {
     "data": {
      "text/plain": [
       "<Figure size 21600x28800 with 0 Axes>"
      ]
     },
     "metadata": {},
     "output_type": "display_data"
    }
   ],
   "source": [
    "# Create figure to compare the health spending by years with groups\n",
    "# x-axis: year, y-axis: mean total health spending (per person).\n",
    "fig, ax = plt.subplots()\n",
    "width=0.35\n",
    "p1 = ax.bar([y for y in years], mean_hs_arr1, width, color='b')\n",
    "p2 = ax.bar([x+width for x in years], mean_hs_arr2, width, color='y')\n",
    "\n",
    "ax.set_title('Health spending comparation for higher and lower HDI')\n",
    "ax.legend((p1[0], p2[0]), ('Total heath spend/person(HDI>Mean)', 'Total heath spend/person(HDI<=Mean)'))\n",
    "ax.set_xlabel(\"Year (1995-2005)\")\n",
    "ax.set_ylabel(\"Health Spending (International Dollar)\")\n",
    "plt.figure(figsize=(300,400))\n",
    "plt.show()"
   ]
  },
  {
   "cell_type": "markdown",
   "metadata": {},
   "source": [
    "This chart show people have more expenditure on health in the higher HDI contries than that in lower HDI countries.  \n",
    "Also, from above chart, we can see there is a clear trend that the yearly health spending is incresed yearly for higer HDI countries.\n",
    "And for countries with lower HDI, there are some fluctuations but the trend is clear between 2001-2005."
   ]
  },
  {
   "cell_type": "markdown",
   "metadata": {},
   "source": [
    "#### 3. The suicid has any relationships with other indicators?\n",
    "- ***Step 1:*** Create scatter charts for each indicator with the suicide data.\n",
    "- ***Step 2:*** Detail analysis with correlation for the indicator(if exist) and suicide data.\n",
    "> In this experiment, there sames no clear relationship between suicide and each other single indictors. So, no further analysis perform for step2."
   ]
  },
  {
   "cell_type": "markdown",
   "metadata": {},
   "source": [
    "Scatter chart is useful to find relationships between 2 variables. Below, scatters of diffrenet indicators along with suicide are generated to check any pattern existence roughly:"
   ]
  },
  {
   "cell_type": "code",
   "execution_count": 23,
   "metadata": {
    "scrolled": true
   },
   "outputs": [
    {
     "data": {
      "text/plain": [
       "Text(0,0.5,'Suicide number (per 100000 people)')"
      ]
     },
     "execution_count": 23,
     "metadata": {},
     "output_type": "execute_result"
    },
    {
     "data": {
      "image/png": "[encoded data removed]",
      "text/plain": [
       "<Figure size 432x288 with 1 Axes>"
      ]
     },
     "metadata": {},
     "output_type": "display_data"
    }
   ],
   "source": [
    "# scatter between infaltion and suicide\n",
    "df.plot.scatter(x='inflation', y='suid_per_100k')\n",
    "plt.title(\"Scatter of inflation rate and suicide\")\n",
    "plt.xlabel(\"Inflation rate\")\n",
    "plt.ylabel(\"Suicide number (per 100000 people)\")"
   ]
  },
  {
   "cell_type": "code",
   "execution_count": 24,
   "metadata": {
    "scrolled": true
   },
   "outputs": [
    {
     "data": {
      "text/plain": [
       "Text(0,0.5,'Suicide number (per 100000 people)')"
      ]
     },
     "execution_count": 24,
     "metadata": {},
     "output_type": "execute_result"
    },
    {
     "data": {
      "image/png": "[encoded data removed]",
      "text/plain": [
       "<Figure size 432x288 with 1 Axes>"
      ]
     },
     "metadata": {},
     "output_type": "display_data"
    }
   ],
   "source": [
    "# scatter between GDP growth rate and suicide\n",
    "df.plot.scatter(x='gdp_gr_pc', y='suid_per_100k')\n",
    "plt.title(\"Scatter of GDP growth (per capita) and suicide\")\n",
    "plt.xlabel(\"GDP growth percent (per capita)\")\n",
    "plt.ylabel(\"Suicide number (per 100000 people)\")"
   ]
  },
  {
   "cell_type": "code",
   "execution_count": 25,
   "metadata": {
    "scrolled": false
   },
   "outputs": [
    {
     "data": {
      "text/plain": [
       "Text(0,0.5,'Suicide number (per 100000 people)')"
      ]
     },
     "execution_count": 25,
     "metadata": {},
     "output_type": "execute_result"
    },
    {
     "data": {
      "image/png": "[encoded data removed]",
      "text/plain": [
       "<Figure size 432x288 with 1 Axes>"
      ]
     },
     "metadata": {},
     "output_type": "display_data"
    }
   ],
   "source": [
    "# scatter between working hours and suicide\n",
    "df.plot.scatter(x='work_hour', y='suid_per_100k')\n",
    "plt.title(\"Scatter of weekly working hours and suicide\")\n",
    "plt.xlabel(\"Weekly working hours\")\n",
    "plt.ylabel(\"Suicide number (per 100000 people)\")"
   ]
  },
  {
   "cell_type": "code",
   "execution_count": 26,
   "metadata": {
    "scrolled": true
   },
   "outputs": [
    {
     "data": {
      "text/plain": [
       "Text(0,0.5,'Suicide number (per 100000 people)')"
      ]
     },
     "execution_count": 26,
     "metadata": {},
     "output_type": "execute_result"
    },
    {
     "data": {
      "image/png": "[encoded data removed]",
      "text/plain": [
       "<Figure size 432x288 with 1 Axes>"
      ]
     },
     "metadata": {},
     "output_type": "display_data"
    }
   ],
   "source": [
    "# scatter between mean years in school and suicide\n",
    "df.plot.scatter(x='mean_yr_scl', y='suid_per_100k')\n",
    "plt.title(\"Scatter of mean years in school and suicide\")\n",
    "plt.xlabel(\"Mean years in school\")\n",
    "plt.ylabel(\"Suicide number (per 100000 people)\")"
   ]
  },
  {
   "cell_type": "code",
   "execution_count": 27,
   "metadata": {
    "scrolled": true
   },
   "outputs": [
    {
     "data": {
      "text/plain": [
       "Text(0,0.5,'Suicide number (per 100000 people)')"
      ]
     },
     "execution_count": 27,
     "metadata": {},
     "output_type": "execute_result"
    },
    {
     "data": {
      "image/png": "[encoded data removed]",
      "text/plain": [
       "<Figure size 432x288 with 1 Axes>"
      ]
     },
     "metadata": {},
     "output_type": "display_data"
    }
   ],
   "source": [
    "# scatter between total health spending per person and suicide\n",
    "df.plot.scatter(x='tt_spend_pp', y='suid_per_100k')\n",
    "plt.title(\"Scatter of total health spending and suicide\")\n",
    "plt.xlabel(\"Total health spending (International Dollor)\")\n",
    "plt.ylabel(\"Suicide number (per 100000 people)\")"
   ]
  },
  {
   "cell_type": "code",
   "execution_count": 28,
   "metadata": {
    "scrolled": true
   },
   "outputs": [
    {
     "data": {
      "text/plain": [
       "Text(0,0.5,'Suicide number (per 100000 people)')"
      ]
     },
     "execution_count": 28,
     "metadata": {},
     "output_type": "execute_result"
    },
    {
     "data": {
      "image/png": "[encoded data removed]",
      "text/plain": [
       "<Figure size 432x288 with 1 Axes>"
      ]
     },
     "metadata": {},
     "output_type": "display_data"
    }
   ],
   "source": [
    "# scatter between HDI and suicide\n",
    "df.plot.scatter(x='hdi', y='suid_per_100k')\n",
    "plt.title(\"Scatter of HDI and suicide\")\n",
    "plt.xlabel(\"Human Development Index (HDI)\")\n",
    "plt.ylabel(\"Suicide number (per 100000 people)\")"
   ]
  },
  {
   "cell_type": "code",
   "execution_count": 29,
   "metadata": {
    "scrolled": true
   },
   "outputs": [
    {
     "data": {
      "text/plain": [
       "Text(0,0.5,'Suicide number (per 100000 people)')"
      ]
     },
     "execution_count": 29,
     "metadata": {},
     "output_type": "execute_result"
    },
    {
     "data": {
      "image/png": "[encoded data removed]",
      "text/plain": [
       "<Figure size 432x288 with 1 Axes>"
      ]
     },
     "metadata": {},
     "output_type": "display_data"
    }
   ],
   "source": [
    "# scatter between labor force (aged 25-54) and suicide\n",
    "df.plot.scatter(x='lbr_frc', y='suid_per_100k')\n",
    "plt.title(\"Scatter of labor force percent(aged 25-54) and suicide\")\n",
    "plt.xlabel(\"Labor force percent(aged 25-54)\")\n",
    "plt.ylabel(\"Suicide number (per 100000 people)\")"
   ]
  },
  {
   "cell_type": "code",
   "execution_count": 30,
   "metadata": {},
   "outputs": [
    {
     "data": {
      "text/plain": [
       "Text(0,0.5,'Suicide number (per 100000 people)')"
      ]
     },
     "execution_count": 30,
     "metadata": {},
     "output_type": "execute_result"
    },
    {
     "data": {
      "image/png": "[encoded data removed]",
      "text/plain": [
       "<Figure size 432x288 with 1 Axes>"
      ]
     },
     "metadata": {},
     "output_type": "display_data"
    }
   ],
   "source": [
    "# scatter between sex ratio and suicide\n",
    "df.plot.scatter(x='sex_ratio', y='suid_per_100k')\n",
    "plt.title(\"Scatter of sex ratio and suicide\")\n",
    "plt.xlabel(\"Sex ratio (male divided female, per 100)\")\n",
    "plt.ylabel(\"Suicide number (per 100000 people)\")"
   ]
  },
  {
   "cell_type": "markdown",
   "metadata": {},
   "source": [
    "From above scatters, there is no indicator can be found with a strong relationship with suicide number."
   ]
  },
  {
   "cell_type": "markdown",
   "metadata": {},
   "source": [
    "#### 4. Will the high HDI countries have the lowest GDP growth rate? Will the low HDI countries have the highest GDP growth rate?\n",
    "- ***Step 1:*** Choose the year 2005, classify HDI to different levels by min, 25%, 50%, 75% and max values. \n",
    "- ***Step 2:*** Select the GDP data and group by the HDI level. \n",
    "- ***Step 3:*** Visualize groups of data. "
   ]
  },
  {
   "cell_type": "code",
   "execution_count": 31,
   "metadata": {
    "scrolled": true
   },
   "outputs": [
    {
     "data": {
      "text/plain": [
       "count    25.000000\n",
       "mean      0.865040\n",
       "std       0.046409\n",
       "min       0.723000\n",
       "25%       0.850000\n",
       "50%       0.873000\n",
       "75%       0.893000\n",
       "max       0.931000\n",
       "Name: hdi, dtype: float64"
      ]
     },
     "execution_count": 31,
     "metadata": {},
     "output_type": "execute_result"
    }
   ],
   "source": [
    "# Get the min, 25%, 50%, 75% and max values of HDI\n",
    "df.query('year==2005')['hdi'].describe()"
   ]
  },
  {
   "cell_type": "code",
   "execution_count": 32,
   "metadata": {
    "scrolled": false
   },
   "outputs": [
    {
     "data": {
      "text/html": [
       "<div>\n",
       "<style scoped>\n",
       "    .dataframe tbody tr th:only-of-type {\n",
       "        vertical-align: middle;\n",
       "    }\n",
       "\n",
       "    .dataframe tbody tr th {\n",
       "        vertical-align: top;\n",
       "    }\n",
       "\n",
       "    .dataframe thead th {\n",
       "        text-align: right;\n",
       "    }\n",
       "</style>\n",
       "<table border=\"1\" class=\"dataframe\">\n",
       "  <thead>\n",
       "    <tr style=\"text-align: right;\">\n",
       "      <th></th>\n",
       "      <th>geo</th>\n",
       "      <th>gdp_gr_pc</th>\n",
       "      <th>inflation</th>\n",
       "      <th>work_hour</th>\n",
       "      <th>mean_yr_scl</th>\n",
       "      <th>tt_spend_pp</th>\n",
       "      <th>suid_per_100k</th>\n",
       "      <th>hdi</th>\n",
       "      <th>lbr_frc</th>\n",
       "      <th>sex_ratio</th>\n",
       "      <th>year</th>\n",
       "      <th>hdi_lvl</th>\n",
       "    </tr>\n",
       "  </thead>\n",
       "  <tbody>\n",
       "    <tr>\n",
       "      <th>250</th>\n",
       "      <td>Australia</td>\n",
       "      <td>1.85</td>\n",
       "      <td>3.7100</td>\n",
       "      <td>33.3</td>\n",
       "      <td>11.50</td>\n",
       "      <td>2960.0</td>\n",
       "      <td>8.47</td>\n",
       "      <td>0.915</td>\n",
       "      <td>82.0</td>\n",
       "      <td>99.6</td>\n",
       "      <td>2005</td>\n",
       "      <td>high</td>\n",
       "    </tr>\n",
       "    <tr>\n",
       "      <th>251</th>\n",
       "      <td>Austria</td>\n",
       "      <td>1.45</td>\n",
       "      <td>2.6400</td>\n",
       "      <td>31.8</td>\n",
       "      <td>11.10</td>\n",
       "      <td>3480.0</td>\n",
       "      <td>13.10</td>\n",
       "      <td>0.854</td>\n",
       "      <td>86.5</td>\n",
       "      <td>94.6</td>\n",
       "      <td>2005</td>\n",
       "      <td>medium low</td>\n",
       "    </tr>\n",
       "    <tr>\n",
       "      <th>252</th>\n",
       "      <td>Canada</td>\n",
       "      <td>2.19</td>\n",
       "      <td>3.1500</td>\n",
       "      <td>33.4</td>\n",
       "      <td>13.90</td>\n",
       "      <td>3450.0</td>\n",
       "      <td>10.10</td>\n",
       "      <td>0.891</td>\n",
       "      <td>86.3</td>\n",
       "      <td>98.3</td>\n",
       "      <td>2005</td>\n",
       "      <td>medium high</td>\n",
       "    </tr>\n",
       "    <tr>\n",
       "      <th>253</th>\n",
       "      <td>Czech Republic</td>\n",
       "      <td>6.39</td>\n",
       "      <td>0.0737</td>\n",
       "      <td>38.5</td>\n",
       "      <td>13.25</td>\n",
       "      <td>1480.0</td>\n",
       "      <td>12.40</td>\n",
       "      <td>0.847</td>\n",
       "      <td>88.3</td>\n",
       "      <td>95.0</td>\n",
       "      <td>2005</td>\n",
       "      <td>low</td>\n",
       "    </tr>\n",
       "    <tr>\n",
       "      <th>254</th>\n",
       "      <td>Denmark</td>\n",
       "      <td>2.06</td>\n",
       "      <td>2.9100</td>\n",
       "      <td>30.1</td>\n",
       "      <td>12.55</td>\n",
       "      <td>3240.0</td>\n",
       "      <td>8.97</td>\n",
       "      <td>0.902</td>\n",
       "      <td>87.6</td>\n",
       "      <td>98.1</td>\n",
       "      <td>2005</td>\n",
       "      <td>high</td>\n",
       "    </tr>\n",
       "  </tbody>\n",
       "</table>\n",
       "</div>"
      ],
      "text/plain": [
       "                geo  gdp_gr_pc  inflation  work_hour  mean_yr_scl  \\\n",
       "250       Australia       1.85     3.7100       33.3        11.50   \n",
       "251         Austria       1.45     2.6400       31.8        11.10   \n",
       "252          Canada       2.19     3.1500       33.4        13.90   \n",
       "253  Czech Republic       6.39     0.0737       38.5        13.25   \n",
       "254         Denmark       2.06     2.9100       30.1        12.55   \n",
       "\n",
       "     tt_spend_pp  suid_per_100k    hdi  lbr_frc  sex_ratio  year      hdi_lvl  \n",
       "250       2960.0           8.47  0.915     82.0       99.6  2005         high  \n",
       "251       3480.0          13.10  0.854     86.5       94.6  2005   medium low  \n",
       "252       3450.0          10.10  0.891     86.3       98.3  2005  medium high  \n",
       "253       1480.0          12.40  0.847     88.3       95.0  2005          low  \n",
       "254       3240.0           8.97  0.902     87.6       98.1  2005         high  "
      ]
     },
     "execution_count": 32,
     "metadata": {},
     "output_type": "execute_result"
    }
   ],
   "source": [
    "# define the egde and labels\n",
    "hdi_edge=[0.723000, 0.850000, 0.873000, 0.893000, 0.931000]\n",
    "hdi_labels=['low','medium low','medium high','high']\n",
    "df_hdi_lvl_05=df.query('year==2005').copy()\n",
    "# cut dataframe with edge\n",
    "df_hdi_lvl_05['hdi_lvl'] = pd.cut(df_hdi_lvl_05['hdi'], hdi_edge, labels=hdi_labels)\n",
    "df_hdi_lvl_05.head()"
   ]
  },
  {
   "cell_type": "code",
   "execution_count": 33,
   "metadata": {
    "scrolled": true
   },
   "outputs": [
    {
     "data": {
      "image/png": "[encoded data removed]",
      "text/plain": [
       "<Figure size 432x288 with 1 Axes>"
      ]
     },
     "metadata": {},
     "output_type": "display_data"
    }
   ],
   "source": [
    "# create bar chart\n",
    "x_label=['Low','Medium Low','Medium High', 'High']\n",
    "hdi_lvl_gdp = df_hdi_lvl_05.groupby('hdi_lvl')['gdp_gr_pc'].mean().plot(kind='bar')\n",
    "plt.title('Mean GDP growth rate (per capita) group by HDI level (year 2005)')\n",
    "plt.xlabel('HDI Level')\n",
    "plt.ylabel('GDP growth rate (per capita)')\n",
    "plt.xticks([0,1,2,3], x_label)\n",
    "plt.show()"
   ]
  },
  {
   "cell_type": "markdown",
   "metadata": {},
   "source": [
    "The chart shows that in 2005, countries in low HDI group have the highest mean GDP growth (per capita). But the countries in high HDI group have a second high mean GDP growth. The countries with medium low HDI have lowest mean GDP growth."
   ]
  },
  {
   "cell_type": "markdown",
   "metadata": {},
   "source": [
    "#### 5. The trends of weekly working hours (group by EU, USA, South Korea and Japan)\n",
    "- ***Step 1: Find counties that belong to Europen Union***\n",
    "- ***Step 2: Create dataframe for each region with working hours for period (1995-2005)***\n",
    "- ***Step 2: Create line chart to check the trends***"
   ]
  },
  {
   "cell_type": "code",
   "execution_count": 34,
   "metadata": {
    "scrolled": false
   },
   "outputs": [],
   "source": [
    "# Define countries list which are the EU member\n",
    "eu=['Austria', 'Belgium', 'Bulgaria', 'Croatia', 'Republic of Cyprus', 'Czech Republic', 'Denmark', 'Estonia', 'Finland', \n",
    "    'France', 'Germany', 'Greece', 'Hungary', 'Ireland', 'Italy', 'Latvia', 'Lithuania', 'Luxembourg', 'Malta', 'Netherlands',\n",
    "    'Poland', 'Portugal', 'Romania', 'Slovakia', 'Slovenia', 'Spain', 'Sweden', 'United Kingdom']\n",
    "# dataframe to contain EU's data\n",
    "df_yr_wh_eu = pd.DataFrame(columns=['geo','mean_wh','year'])\n",
    "# dataframe to contain US's data\n",
    "df_yr_wh_us = pd.DataFrame(columns=['geo','mean_wh','year'])\n",
    "# dataframe to contain South Korea's data\n",
    "df_yr_wh_sk = pd.DataFrame(columns=['geo','mean_wh','year'])\n",
    "# dataframe to contain Japan's data\n",
    "df_yr_wh_jp = pd.DataFrame(columns=['geo','mean_wh','year'])\n",
    "# loop years to fill the data into the dataframes\n",
    "for i in range(len(years)):\n",
    "    df_yr = df.query('year=='+str(years[i]))\n",
    "    # find the mean working hour in that year\n",
    "    mean_wh_eu = df_yr[df_yr['geo'].isin(eu)]['work_hour'].mean()\n",
    "    mean_wh_us = df_yr[df_yr['geo']=='United States']['work_hour'].mean()\n",
    "    mean_wh_sk = df_yr[df_yr['geo']=='South Korea']['work_hour'].mean()\n",
    "    mean_wh_jp = df_yr[df_yr['geo']=='Japan']['work_hour'].mean()\n",
    "    # fill in data\n",
    "    df_yr_wh_eu.loc[i]=['EU',mean_wh_eu,years[i]]\n",
    "    df_yr_wh_us.loc[i]=['USA',mean_wh_us,years[i]]\n",
    "    df_yr_wh_sk.loc[i]=['SK',mean_wh_sk,years[i]]\n",
    "    df_yr_wh_jp.loc[i]=['JPN',mean_wh_jp,years[i]]"
   ]
  },
  {
   "cell_type": "code",
   "execution_count": 35,
   "metadata": {
    "scrolled": true
   },
   "outputs": [
    {
     "data": {
      "image/png": "[encoded data removed]",
      "text/plain": [
       "<Figure size 432x288 with 1 Axes>"
      ]
     },
     "metadata": {},
     "output_type": "display_data"
    }
   ],
   "source": [
    "# create line chart for the trends\n",
    "plt.plot(years, df_yr_wh_eu['mean_wh'].values, color='b', linewidth=2)\n",
    "plt.plot(years, df_yr_wh_us['mean_wh'].values, color='y', linewidth=2)\n",
    "plt.plot(years, df_yr_wh_sk['mean_wh'].values,  color='g', linewidth=2)\n",
    "plt.plot(years, df_yr_wh_jp['mean_wh'].values,  color='r', linewidth=2)\n",
    "plt.title(\"Weekly Working Hours Trends\")\n",
    "plt.xlabel(\"Year (1995-2005)\")\n",
    "plt.ylabel(\"Weekly Working Hours\")\n",
    "plt.legend(['EU','USA','South Korea','Japan'])\n",
    "plt.show()"
   ]
  },
  {
   "cell_type": "markdown",
   "metadata": {},
   "source": [
    "This shows the trends that for the above areas, the weekly working hours are decreased. But some of areas have fluctuations instead of straight drop down."
   ]
  },
  {
   "cell_type": "markdown",
   "metadata": {},
   "source": [
    "#### 6. Which countries have increased HDI but less countribution from the young and middle-aged?\n",
    "> Here, finding the countries that the society is developed with less contribution from the people whose age is in 25-54. The definition of \"Society developed\" here means HDI increased with the comparision of data in 1995 and 2005. The labor force data is the ratio of labor force that aged 25-54 to total labor force.\n",
    "\n",
    "- ***Step 1: Extract data from 1995 and rename the columns***\n",
    "- ***Step 2: Extract data from 2005 and rename the columns***\n",
    "- ***Step 3: Do query to find countries of which HDI(2005)>HDI(1995) and Labor(2005)<Labor(1995)***"
   ]
  },
  {
   "cell_type": "code",
   "execution_count": 36,
   "metadata": {},
   "outputs": [
    {
     "data": {
      "text/html": [
       "<div>\n",
       "<style scoped>\n",
       "    .dataframe tbody tr th:only-of-type {\n",
       "        vertical-align: middle;\n",
       "    }\n",
       "\n",
       "    .dataframe tbody tr th {\n",
       "        vertical-align: top;\n",
       "    }\n",
       "\n",
       "    .dataframe thead th {\n",
       "        text-align: right;\n",
       "    }\n",
       "</style>\n",
       "<table border=\"1\" class=\"dataframe\">\n",
       "  <thead>\n",
       "    <tr style=\"text-align: right;\">\n",
       "      <th></th>\n",
       "      <th>geo</th>\n",
       "      <th>hdi_95</th>\n",
       "      <th>lbr_frc_95</th>\n",
       "    </tr>\n",
       "  </thead>\n",
       "  <tbody>\n",
       "    <tr>\n",
       "      <th>0</th>\n",
       "      <td>Australia</td>\n",
       "      <td>0.885</td>\n",
       "      <td>80.6</td>\n",
       "    </tr>\n",
       "    <tr>\n",
       "      <th>1</th>\n",
       "      <td>Austria</td>\n",
       "      <td>0.816</td>\n",
       "      <td>83.3</td>\n",
       "    </tr>\n",
       "    <tr>\n",
       "      <th>2</th>\n",
       "      <td>Canada</td>\n",
       "      <td>0.860</td>\n",
       "      <td>83.3</td>\n",
       "    </tr>\n",
       "    <tr>\n",
       "      <th>3</th>\n",
       "      <td>Czech Republic</td>\n",
       "      <td>0.785</td>\n",
       "      <td>89.2</td>\n",
       "    </tr>\n",
       "    <tr>\n",
       "      <th>4</th>\n",
       "      <td>Denmark</td>\n",
       "      <td>0.830</td>\n",
       "      <td>87.1</td>\n",
       "    </tr>\n",
       "  </tbody>\n",
       "</table>\n",
       "</div>"
      ],
      "text/plain": [
       "              geo  hdi_95  lbr_frc_95\n",
       "0       Australia   0.885        80.6\n",
       "1         Austria   0.816        83.3\n",
       "2          Canada   0.860        83.3\n",
       "3  Czech Republic   0.785        89.2\n",
       "4         Denmark   0.830        87.1"
      ]
     },
     "execution_count": 36,
     "metadata": {},
     "output_type": "execute_result"
    }
   ],
   "source": [
    "# create the dataframe and fill in 1995's data with query\n",
    "df_hdi_lbr=df.query('year==1995')[['geo','hdi','lbr_frc']]\n",
    "# rename columns\n",
    "df_hdi_lbr.rename(columns={'hdi':'hdi_95','lbr_frc':'lbr_frc_95'}, inplace=True)\n",
    "df_hdi_lbr.head()"
   ]
  },
  {
   "cell_type": "code",
   "execution_count": 37,
   "metadata": {
    "scrolled": true
   },
   "outputs": [
    {
     "data": {
      "text/html": [
       "<div>\n",
       "<style scoped>\n",
       "    .dataframe tbody tr th:only-of-type {\n",
       "        vertical-align: middle;\n",
       "    }\n",
       "\n",
       "    .dataframe tbody tr th {\n",
       "        vertical-align: top;\n",
       "    }\n",
       "\n",
       "    .dataframe thead th {\n",
       "        text-align: right;\n",
       "    }\n",
       "</style>\n",
       "<table border=\"1\" class=\"dataframe\">\n",
       "  <thead>\n",
       "    <tr style=\"text-align: right;\">\n",
       "      <th></th>\n",
       "      <th>geo</th>\n",
       "      <th>hdi_95</th>\n",
       "      <th>lbr_frc_95</th>\n",
       "      <th>hdi_05</th>\n",
       "      <th>lbr_frc_05</th>\n",
       "    </tr>\n",
       "  </thead>\n",
       "  <tbody>\n",
       "    <tr>\n",
       "      <th>0</th>\n",
       "      <td>Australia</td>\n",
       "      <td>0.885</td>\n",
       "      <td>80.6</td>\n",
       "      <td>0.915</td>\n",
       "      <td>82.0</td>\n",
       "    </tr>\n",
       "    <tr>\n",
       "      <th>1</th>\n",
       "      <td>Austria</td>\n",
       "      <td>0.816</td>\n",
       "      <td>83.3</td>\n",
       "      <td>0.854</td>\n",
       "      <td>86.5</td>\n",
       "    </tr>\n",
       "    <tr>\n",
       "      <th>2</th>\n",
       "      <td>Canada</td>\n",
       "      <td>0.860</td>\n",
       "      <td>83.3</td>\n",
       "      <td>0.891</td>\n",
       "      <td>86.3</td>\n",
       "    </tr>\n",
       "    <tr>\n",
       "      <th>3</th>\n",
       "      <td>Czech Republic</td>\n",
       "      <td>0.785</td>\n",
       "      <td>89.2</td>\n",
       "      <td>0.847</td>\n",
       "      <td>88.3</td>\n",
       "    </tr>\n",
       "    <tr>\n",
       "      <th>4</th>\n",
       "      <td>Denmark</td>\n",
       "      <td>0.830</td>\n",
       "      <td>87.1</td>\n",
       "      <td>0.902</td>\n",
       "      <td>87.6</td>\n",
       "    </tr>\n",
       "  </tbody>\n",
       "</table>\n",
       "</div>"
      ],
      "text/plain": [
       "              geo  hdi_95  lbr_frc_95  hdi_05  lbr_frc_05\n",
       "0       Australia   0.885        80.6   0.915        82.0\n",
       "1         Austria   0.816        83.3   0.854        86.5\n",
       "2          Canada   0.860        83.3   0.891        86.3\n",
       "3  Czech Republic   0.785        89.2   0.847        88.3\n",
       "4         Denmark   0.830        87.1   0.902        87.6"
      ]
     },
     "execution_count": 37,
     "metadata": {},
     "output_type": "execute_result"
    }
   ],
   "source": [
    "# create the dataframe for 2005 and fill in by query\n",
    "df_temp_05 = df.query('year==2005')[['geo','hdi','lbr_frc']]\n",
    "# merge in the 2005's data\n",
    "df_hdi_lbr = df_hdi_lbr.merge(df_temp_05,on='geo', how='inner')\n",
    "# rename columns\n",
    "df_hdi_lbr.rename(columns={'hdi':'hdi_05','lbr_frc':'lbr_frc_05'}, inplace=True)\n",
    "df_hdi_lbr.head()"
   ]
  },
  {
   "cell_type": "code",
   "execution_count": 38,
   "metadata": {
    "scrolled": true
   },
   "outputs": [
    {
     "data": {
      "text/html": [
       "<div>\n",
       "<style scoped>\n",
       "    .dataframe tbody tr th:only-of-type {\n",
       "        vertical-align: middle;\n",
       "    }\n",
       "\n",
       "    .dataframe tbody tr th {\n",
       "        vertical-align: top;\n",
       "    }\n",
       "\n",
       "    .dataframe thead th {\n",
       "        text-align: right;\n",
       "    }\n",
       "</style>\n",
       "<table border=\"1\" class=\"dataframe\">\n",
       "  <thead>\n",
       "    <tr style=\"text-align: right;\">\n",
       "      <th></th>\n",
       "      <th>geo</th>\n",
       "      <th>hdi_95</th>\n",
       "      <th>lbr_frc_95</th>\n",
       "      <th>hdi_05</th>\n",
       "      <th>lbr_frc_05</th>\n",
       "    </tr>\n",
       "  </thead>\n",
       "  <tbody>\n",
       "    <tr>\n",
       "      <th>3</th>\n",
       "      <td>Czech Republic</td>\n",
       "      <td>0.785</td>\n",
       "      <td>89.2</td>\n",
       "      <td>0.847</td>\n",
       "      <td>88.3</td>\n",
       "    </tr>\n",
       "    <tr>\n",
       "      <th>18</th>\n",
       "      <td>Slovak Republic</td>\n",
       "      <td>0.750</td>\n",
       "      <td>88.4</td>\n",
       "      <td>0.793</td>\n",
       "      <td>87.9</td>\n",
       "    </tr>\n",
       "    <tr>\n",
       "      <th>24</th>\n",
       "      <td>United States</td>\n",
       "      <td>0.877</td>\n",
       "      <td>83.6</td>\n",
       "      <td>0.898</td>\n",
       "      <td>82.9</td>\n",
       "    </tr>\n",
       "  </tbody>\n",
       "</table>\n",
       "</div>"
      ],
      "text/plain": [
       "                geo  hdi_95  lbr_frc_95  hdi_05  lbr_frc_05\n",
       "3    Czech Republic   0.785        89.2   0.847        88.3\n",
       "18  Slovak Republic   0.750        88.4   0.793        87.9\n",
       "24    United States   0.877        83.6   0.898        82.9"
      ]
     },
     "execution_count": 38,
     "metadata": {},
     "output_type": "execute_result"
    }
   ],
   "source": [
    "# query the data from the new dataframe to find result\n",
    "df_res = df_hdi_lbr.query('hdi_05>hdi_95 and lbr_frc_05<lbr_frc_95')\n",
    "df_res"
   ]
  },
  {
   "cell_type": "markdown",
   "metadata": {},
   "source": [
    "The countries of Czech Republic, Slovak Republic and United States are found here which they suffered the decreasing on the young and middle-aged labor force (aged 25-54) during the society development from 1995 to 2005."
   ]
  },
  {
   "cell_type": "markdown",
   "metadata": {},
   "source": [
    "<a id='conclusions'></a>\n",
    "## Conclusions"
   ]
  },
  {
   "cell_type": "markdown",
   "metadata": {
    "collapsed": true
   },
   "source": [
    "#### 1. Does the countries which have higer HDI will have shorter working hours?\n",
    "Yes, from the chart generated, the countries which have higher HDI(Human Development Index) also have shorter working hours.\n",
    "The Human Development Index (HDI) is a statistic (composite index) of life expectancy, education, and per capita income indicators, which are used to rank countries into four tiers of human development[[1]((https://en.wikipedia.org/wiki/Human_Development_Index))].The countries that have higer level HDI are developed countries like western Euro and north America (US, Canada). In the developed countries, people have good balance on working and persional life, so the conclusion is reasonable.\n",
    "\n",
    "##### Limitation\n",
    "The countries included in this project are mainly from EU, US, Canada, Austrilia, South Korea and Japan. Most of the countires are developed countries. The data from developing countries in Asia, Africa, South America are missing. Maybe that countries are removed because of empty data during the period. So here cannot get a common conclusion which can apply to other areas.  "
   ]
  },
  {
   "cell_type": "markdown",
   "metadata": {},
   "source": [
    "#### 2. Does the countries have higher HDI will have higher health spending per person?\n",
    "Yes. As state in the above question, the higher level HDI countries are developed countries. Healthy condition is one of the consideration in the HDI. Developed countries have better medical conditions and people have a higher recognition on their life and health. \n",
    "##### Limitation\n",
    "Similar with the limitations in question 1, this project missed data from developing countries."
   ]
  },
  {
   "cell_type": "markdown",
   "metadata": {},
   "source": [
    "#### 3. The suicid has any relationships with other indicators?\n",
    "For the other indicators used in this project, there is no relationship can be found as the data distribution is quite messy. The suicide belong to the mental health area and may need more related information to get conclusion. "
   ]
  },
  {
   "cell_type": "markdown",
   "metadata": {},
   "source": [
    "#### 4. Will the high HDI countries have the lowest GDP growth rate? Will the low HDI countries have the highest GDP growth rate?\n",
    "For the cases in this report (in year 2005), the countires with lower level HDI (between 0.723 and 0.85) have a higher GDP growth rate (per capita). But the countries with higest level HDI don't have the lowest GDP growth rate (per capita). From the chart, the HDI between 0.85 and 0.873 have the lowest GDP growth rate.\n",
    "\n",
    "##### Limitation\n",
    "Also, the data used here is not adequate. The HDI range is not large enough. The mean HDI here used is beyond 0.86 and this is quite high. From news we know, in that period, developing countries like China, India, Brazil and so on have steep GDP growth rate. These countries are devloping countries with maybe not too much lower HDI but have highest GDP growth rate. How about the GDP growth rate in the least developed countries? That needs futher exploration."
   ]
  },
  {
   "cell_type": "markdown",
   "metadata": {},
   "source": [
    "#### 5. The trends of weekly working hours (group by EU, USA, South Korea and Japan)\n",
    "For the given period of 1995-2005, it clearly shows that the weekly working hours in above areas are all decreased.\n",
    "\n",
    "##### Limitation\n",
    "For the developed countries, the trends is clearly that the weekly working hours are droped. And maybe the IT helped people working more efficient. But how about the the least developed countries and the countries with high GDP growth rate? As we know India and China input more resources on IT, does more and more people work over time? Result could be more convincing if more countries are added.  \n",
    "Add also, news also states that Japan has high working hours[[6](https://www.cnbc.com/2018/06/01/japan-has-some-of-the-longest-working-hours-in-the-world-its-trying-to-change.html)]. But data here shows that Japan has a close working hours with US after 2000. This data make me doubt."
   ]
  },
  {
   "cell_type": "markdown",
   "metadata": {},
   "source": [
    "#### 6. Which countries have increased HDI but less countribution from the young and middle-aged?\n",
    "By comparing the data in 1995 and 2005, Czech Republic, Slovak Republic and United States show that the labor force aged in 25-54 decreased while the HDI increased. That means this ages group make less contribution on the society development. Integrate with the unemployment data:\n",
    "\n",
    "|Country|Unemployment Rate(1995)|Unemployment Rate(2005)|Reference|\n",
    "|-------|----|----|---|\n",
    "|US|5.6%|5.1%|[[2](https://www.statista.com/statistics/193290/unemployment-rate-in-the-usa-since-1990/)]\n",
    "|Czech|3.74%|7.85%|[[3](http://sdw.ecb.europa.eu/quickview.do?SERIES_KEY=132.STS.Q.CZ.S.UNEH.RTT000.4.000)]\n",
    "|Slovak|12.1|16.4|[[4]((http://sdw.ecb.europa.eu/quickview.do?SERIES_KEY=139.AME.A.SVK.1.0.0.0.ZUTN&))]\n",
    "\n",
    "Except the US unemployment rate went down, the Czech and Slovak suffered a higher unemployment rate. This can explain the results for Czech and Slovak.\n",
    "But what happened for US young and middle-aged labor force during this period? By searching this topic, this [artical](https://stats.bls.gov/opub/mlr/2016/article/labor-force-participation-what-has-happened-since-the-peak.htm) give the answer. ***\"From 2000 to 2015, the decline in participation occurred across most of the major demographic groups. Teenagers experienced the steepest drop in participation, which coincided with a rise in their school enrollment rate.\"***[[5](https://stats.bls.gov/opub/mlr/2016/article/labor-force-participation-what-has-happened-since-the-peak.htm)]\n",
    "\n",
    "##### Limitation\n",
    "The year range maybe too extensive and details are lost. For instance, the young labor force increased during the first period but drop down in second period."
   ]
  },
  {
   "cell_type": "markdown",
   "metadata": {},
   "source": [
    "# Reference\n",
    "1. https://en.wikipedia.org/wiki/Human_Development_Index  \n",
    "2. https://www.statista.com/statistics/193290/unemployment-rate-in-the-usa-since-1990/  \n",
    "3. http://sdw.ecb.europa.eu/quickview.do?SERIES_KEY=132.STS.Q.CZ.S.UNEH.RTT000.4.000  \n",
    "4. http://sdw.ecb.europa.eu/quickview.do?SERIES_KEY=139.AME.A.SVK.1.0.0.0.ZUTN&  \n",
    "5. https://stats.bls.gov/opub/mlr/2016/article/labor-force-participation-what-has-happened-since-the-peak.htm  \n",
    "6. https://www.cnbc.com/2018/06/01/japan-has-some-of-the-longest-working-hours-in-the-world-its-trying-to-change.html  "
   ]
  }
 ],
 "metadata": {
  "kernelspec": {
   "display_name": "Python [default]",
   "language": "python",
   "name": "python3"
  },
  "language_info": {
   "codemirror_mode": {
    "name": "ipython",
    "version": 3
   },
   "file_extension": ".py",
   "mimetype": "text/x-python",
   "name": "python",
   "nbconvert_exporter": "python",
   "pygments_lexer": "ipython3",
   "version": "3.6.6"
  }
 },
 "nbformat": 4,
 "nbformat_minor": 2
}
